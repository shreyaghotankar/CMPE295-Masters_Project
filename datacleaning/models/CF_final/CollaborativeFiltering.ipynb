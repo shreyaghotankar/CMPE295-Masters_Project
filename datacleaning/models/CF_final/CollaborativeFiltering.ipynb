{
  "nbformat": 4,
  "nbformat_minor": 0,
  "metadata": {
    "colab": {
      "name": "CollaborativeFiltering.ipynb",
      "provenance": [],
      "collapsed_sections": []
    },
    "kernelspec": {
      "name": "python3",
      "display_name": "Python 3"
    },
    "language_info": {
      "name": "python"
    }
  },
  "cells": [
    {
      "cell_type": "code",
      "metadata": {
        "colab": {
          "base_uri": "https://localhost:8080/"
        },
        "id": "UPYxeW7Lv7_d",
        "outputId": "63301ea9-a89a-4041-b299-9543fdca8fb9"
      },
      "source": [
        "! pip install fastai\n",
        "! pip install surprise\n",
        "!pip install scikit-learn==1.0.1"
      ],
      "execution_count": null,
      "outputs": [
        {
          "output_type": "stream",
          "name": "stdout",
          "text": [
            "Requirement already satisfied: fastai in /usr/local/lib/python3.7/dist-packages (1.0.61)\n",
            "Requirement already satisfied: Pillow in /usr/local/lib/python3.7/dist-packages (from fastai) (7.1.2)\n",
            "Requirement already satisfied: packaging in /usr/local/lib/python3.7/dist-packages (from fastai) (21.3)\n",
            "Requirement already satisfied: requests in /usr/local/lib/python3.7/dist-packages (from fastai) (2.23.0)\n",
            "Requirement already satisfied: scipy in /usr/local/lib/python3.7/dist-packages (from fastai) (1.4.1)\n",
            "Requirement already satisfied: spacy>=2.0.18 in /usr/local/lib/python3.7/dist-packages (from fastai) (2.2.4)\n",
            "Requirement already satisfied: pandas in /usr/local/lib/python3.7/dist-packages (from fastai) (1.1.5)\n",
            "Requirement already satisfied: fastprogress>=0.2.1 in /usr/local/lib/python3.7/dist-packages (from fastai) (1.0.0)\n",
            "Requirement already satisfied: nvidia-ml-py3 in /usr/local/lib/python3.7/dist-packages (from fastai) (7.352.0)\n",
            "Requirement already satisfied: bottleneck in /usr/local/lib/python3.7/dist-packages (from fastai) (1.3.2)\n",
            "Requirement already satisfied: numpy>=1.15 in /usr/local/lib/python3.7/dist-packages (from fastai) (1.19.5)\n",
            "Requirement already satisfied: torch>=1.0.0 in /usr/local/lib/python3.7/dist-packages (from fastai) (1.10.0+cu111)\n",
            "Requirement already satisfied: numexpr in /usr/local/lib/python3.7/dist-packages (from fastai) (2.7.3)\n",
            "Requirement already satisfied: pyyaml in /usr/local/lib/python3.7/dist-packages (from fastai) (3.13)\n",
            "Requirement already satisfied: beautifulsoup4 in /usr/local/lib/python3.7/dist-packages (from fastai) (4.6.3)\n",
            "Requirement already satisfied: torchvision in /usr/local/lib/python3.7/dist-packages (from fastai) (0.11.1+cu111)\n",
            "Requirement already satisfied: matplotlib in /usr/local/lib/python3.7/dist-packages (from fastai) (3.2.2)\n",
            "Requirement already satisfied: wasabi<1.1.0,>=0.4.0 in /usr/local/lib/python3.7/dist-packages (from spacy>=2.0.18->fastai) (0.8.2)\n",
            "Requirement already satisfied: srsly<1.1.0,>=1.0.2 in /usr/local/lib/python3.7/dist-packages (from spacy>=2.0.18->fastai) (1.0.5)\n",
            "Requirement already satisfied: blis<0.5.0,>=0.4.0 in /usr/local/lib/python3.7/dist-packages (from spacy>=2.0.18->fastai) (0.4.1)\n",
            "Requirement already satisfied: murmurhash<1.1.0,>=0.28.0 in /usr/local/lib/python3.7/dist-packages (from spacy>=2.0.18->fastai) (1.0.6)\n",
            "Requirement already satisfied: cymem<2.1.0,>=2.0.2 in /usr/local/lib/python3.7/dist-packages (from spacy>=2.0.18->fastai) (2.0.6)\n",
            "Requirement already satisfied: catalogue<1.1.0,>=0.0.7 in /usr/local/lib/python3.7/dist-packages (from spacy>=2.0.18->fastai) (1.0.0)\n",
            "Requirement already satisfied: setuptools in /usr/local/lib/python3.7/dist-packages (from spacy>=2.0.18->fastai) (57.4.0)\n",
            "Requirement already satisfied: plac<1.2.0,>=0.9.6 in /usr/local/lib/python3.7/dist-packages (from spacy>=2.0.18->fastai) (1.1.3)\n",
            "Requirement already satisfied: tqdm<5.0.0,>=4.38.0 in /usr/local/lib/python3.7/dist-packages (from spacy>=2.0.18->fastai) (4.62.3)\n",
            "Requirement already satisfied: preshed<3.1.0,>=3.0.2 in /usr/local/lib/python3.7/dist-packages (from spacy>=2.0.18->fastai) (3.0.6)\n",
            "Requirement already satisfied: thinc==7.4.0 in /usr/local/lib/python3.7/dist-packages (from spacy>=2.0.18->fastai) (7.4.0)\n",
            "Requirement already satisfied: importlib-metadata>=0.20 in /usr/local/lib/python3.7/dist-packages (from catalogue<1.1.0,>=0.0.7->spacy>=2.0.18->fastai) (4.8.2)\n",
            "Requirement already satisfied: typing-extensions>=3.6.4 in /usr/local/lib/python3.7/dist-packages (from importlib-metadata>=0.20->catalogue<1.1.0,>=0.0.7->spacy>=2.0.18->fastai) (3.10.0.2)\n",
            "Requirement already satisfied: zipp>=0.5 in /usr/local/lib/python3.7/dist-packages (from importlib-metadata>=0.20->catalogue<1.1.0,>=0.0.7->spacy>=2.0.18->fastai) (3.6.0)\n",
            "Requirement already satisfied: urllib3!=1.25.0,!=1.25.1,<1.26,>=1.21.1 in /usr/local/lib/python3.7/dist-packages (from requests->fastai) (1.24.3)\n",
            "Requirement already satisfied: idna<3,>=2.5 in /usr/local/lib/python3.7/dist-packages (from requests->fastai) (2.10)\n",
            "Requirement already satisfied: chardet<4,>=3.0.2 in /usr/local/lib/python3.7/dist-packages (from requests->fastai) (3.0.4)\n",
            "Requirement already satisfied: certifi>=2017.4.17 in /usr/local/lib/python3.7/dist-packages (from requests->fastai) (2021.10.8)\n",
            "Requirement already satisfied: pyparsing!=2.0.4,!=2.1.2,!=2.1.6,>=2.0.1 in /usr/local/lib/python3.7/dist-packages (from matplotlib->fastai) (3.0.6)\n",
            "Requirement already satisfied: cycler>=0.10 in /usr/local/lib/python3.7/dist-packages (from matplotlib->fastai) (0.11.0)\n",
            "Requirement already satisfied: kiwisolver>=1.0.1 in /usr/local/lib/python3.7/dist-packages (from matplotlib->fastai) (1.3.2)\n",
            "Requirement already satisfied: python-dateutil>=2.1 in /usr/local/lib/python3.7/dist-packages (from matplotlib->fastai) (2.8.2)\n",
            "Requirement already satisfied: six>=1.5 in /usr/local/lib/python3.7/dist-packages (from python-dateutil>=2.1->matplotlib->fastai) (1.15.0)\n",
            "Requirement already satisfied: pytz>=2017.2 in /usr/local/lib/python3.7/dist-packages (from pandas->fastai) (2018.9)\n",
            "Requirement already satisfied: surprise in /usr/local/lib/python3.7/dist-packages (0.1)\n",
            "Requirement already satisfied: scikit-surprise in /usr/local/lib/python3.7/dist-packages (from surprise) (1.1.1)\n",
            "Requirement already satisfied: joblib>=0.11 in /usr/local/lib/python3.7/dist-packages (from scikit-surprise->surprise) (1.1.0)\n",
            "Requirement already satisfied: numpy>=1.11.2 in /usr/local/lib/python3.7/dist-packages (from scikit-surprise->surprise) (1.19.5)\n",
            "Requirement already satisfied: six>=1.10.0 in /usr/local/lib/python3.7/dist-packages (from scikit-surprise->surprise) (1.15.0)\n",
            "Requirement already satisfied: scipy>=1.0.0 in /usr/local/lib/python3.7/dist-packages (from scikit-surprise->surprise) (1.4.1)\n",
            "Requirement already satisfied: scikit-learn==1.0.1 in /usr/local/lib/python3.7/dist-packages (1.0.1)\n",
            "Requirement already satisfied: threadpoolctl>=2.0.0 in /usr/local/lib/python3.7/dist-packages (from scikit-learn==1.0.1) (3.0.0)\n",
            "Requirement already satisfied: numpy>=1.14.6 in /usr/local/lib/python3.7/dist-packages (from scikit-learn==1.0.1) (1.19.5)\n",
            "Requirement already satisfied: scipy>=1.1.0 in /usr/local/lib/python3.7/dist-packages (from scikit-learn==1.0.1) (1.4.1)\n",
            "Requirement already satisfied: joblib>=0.11 in /usr/local/lib/python3.7/dist-packages (from scikit-learn==1.0.1) (1.1.0)\n"
          ]
        }
      ]
    },
    {
      "cell_type": "code",
      "metadata": {
        "id": "WMt81b68wOvi"
      },
      "source": [
        "from pydrive.auth import GoogleAuth\n",
        "from pydrive.drive import GoogleDrive\n",
        "from google.colab import auth\n",
        "from oauth2client.client import GoogleCredentials\n",
        "import pandas as pd\n",
        "import numpy as np\n",
        "import matplotlib.pyplot as plt\n",
        "import seaborn as sns\n",
        "from sklearn.preprocessing import StandardScaler\n",
        "from sklearn.cluster import KMeans\n",
        "from itertools import cycle, islice\n",
        "from pandas.plotting import parallel_coordinates\n",
        "from sklearn.preprocessing import RobustScaler\n",
        "from sklearn import metrics\n",
        "from sklearn.model_selection import train_test_split\n",
        "import random\n",
        "from sklearn.cluster import KMeans\n",
        "from sklearn.preprocessing import StandardScaler\n",
        "import matplotlib.pyplot as plt\n",
        "import seaborn as sns\n",
        "from sklearn.decomposition import PCA\n",
        "from surprise.model_selection import train_test_split\n",
        "from scipy.sparse import coo_matrix, csr_matrix\n",
        "from sklearn.metrics.pairwise import cosine_similarity\n",
        "from sklearn.preprocessing import LabelEncoder\n",
        "from sklearn.metrics.pairwise import cosine_similarity\n",
        "from sklearn.metrics import mean_squared_error\n",
        "from sklearn.model_selection import train_test_split\n",
        "from surprise import Reader, Dataset, KNNBasic\n",
        "from surprise.model_selection import cross_validate\n",
        "from surprise import SVD\n",
        "from fastai.collab import *\n",
        "from fastai.tabular import *\n",
        "import warnings\n",
        "warnings.filterwarnings(\"ignore\")"
      ],
      "execution_count": null,
      "outputs": []
    },
    {
      "cell_type": "code",
      "metadata": {
        "colab": {
          "base_uri": "https://localhost:8080/"
        },
        "id": "GzWQnyC6wRq2",
        "outputId": "90de542c-dbc9-4fbb-8166-c7b73c16a049"
      },
      "source": [
        "## AWS Lambda supports scikit-learn==1.0.1 version free of charge\n",
        "import sklearn\n",
        "print('The scikit-learn version is {}.'.format(sklearn.__version__))"
      ],
      "execution_count": null,
      "outputs": [
        {
          "output_type": "stream",
          "name": "stdout",
          "text": [
            "The scikit-learn version is 1.0.1.\n"
          ]
        }
      ]
    },
    {
      "cell_type": "code",
      "metadata": {
        "id": "8Han1Sgewd9U"
      },
      "source": [
        "auth.authenticate_user()\n",
        "gauth = GoogleAuth()\n",
        "gauth.credentials = GoogleCredentials.get_application_default()\n",
        "drive = GoogleDrive(gauth)"
      ],
      "execution_count": null,
      "outputs": []
    },
    {
      "cell_type": "code",
      "metadata": {
        "id": "VooR3_w1wfaf"
      },
      "source": [
        "downloaded = drive.CreateFile({'id':\"1C7yioHe3RDgbfZp3U8qTfZGeNR5_DJo4\"})\n",
        "downloaded.GetContentFile('category-lower-all-everything.txt')"
      ],
      "execution_count": null,
      "outputs": []
    },
    {
      "cell_type": "markdown",
      "metadata": {
        "id": "H2N2Ajnwwmn5"
      },
      "source": [
        "# Loading the data\n",
        "## Lower (Bottom attributes)"
      ]
    },
    {
      "cell_type": "code",
      "metadata": {
        "colab": {
          "base_uri": "https://localhost:8080/",
          "height": 204
        },
        "id": "cctUGKgewlFS",
        "outputId": "17d20a7c-a3d9-40d7-fe0c-9faf6782f957"
      },
      "source": [
        "df_lower = pd.read_csv('category-lower-all-everything.txt', sep=\":\")\n",
        "df_lower.head()"
      ],
      "execution_count": null,
      "outputs": [
        {
          "output_type": "execute_result",
          "data": {
            "text/html": [
              "<div>\n",
              "<style scoped>\n",
              "    .dataframe tbody tr th:only-of-type {\n",
              "        vertical-align: middle;\n",
              "    }\n",
              "\n",
              "    .dataframe tbody tr th {\n",
              "        vertical-align: top;\n",
              "    }\n",
              "\n",
              "    .dataframe thead th {\n",
              "        text-align: right;\n",
              "    }\n",
              "</style>\n",
              "<table border=\"1\" class=\"dataframe\">\n",
              "  <thead>\n",
              "    <tr style=\"text-align: right;\">\n",
              "      <th></th>\n",
              "      <th>Unnamed: 0</th>\n",
              "      <th>t_floral</th>\n",
              "      <th>t_stripe</th>\n",
              "      <th>t_dot</th>\n",
              "      <th>f_denim</th>\n",
              "      <th>f_leather</th>\n",
              "      <th>f_cotton</th>\n",
              "      <th>f_knit</th>\n",
              "      <th>f_pleated</th>\n",
              "      <th>s_fit</th>\n",
              "      <th>s_pencil</th>\n",
              "      <th>s_midi</th>\n",
              "      <th>s_mini</th>\n",
              "      <th>s_maxi</th>\n",
              "      <th>p_zipper</th>\n",
              "      <th>total</th>\n",
              "    </tr>\n",
              "  </thead>\n",
              "  <tbody>\n",
              "    <tr>\n",
              "      <th>0</th>\n",
              "      <td>img/Mineral_Wash_Mini_Skirt/img_00000001.jpg</td>\n",
              "      <td>0</td>\n",
              "      <td>0</td>\n",
              "      <td>0</td>\n",
              "      <td>1</td>\n",
              "      <td>0</td>\n",
              "      <td>0</td>\n",
              "      <td>0</td>\n",
              "      <td>0</td>\n",
              "      <td>0</td>\n",
              "      <td>1</td>\n",
              "      <td>1</td>\n",
              "      <td>0</td>\n",
              "      <td>0</td>\n",
              "      <td>0</td>\n",
              "      <td>3</td>\n",
              "    </tr>\n",
              "    <tr>\n",
              "      <th>1</th>\n",
              "      <td>img/Mineral_Wash_Mini_Skirt/img_00000002.jpg</td>\n",
              "      <td>0</td>\n",
              "      <td>0</td>\n",
              "      <td>0</td>\n",
              "      <td>0</td>\n",
              "      <td>0</td>\n",
              "      <td>0</td>\n",
              "      <td>0</td>\n",
              "      <td>0</td>\n",
              "      <td>0</td>\n",
              "      <td>0</td>\n",
              "      <td>0</td>\n",
              "      <td>0</td>\n",
              "      <td>0</td>\n",
              "      <td>0</td>\n",
              "      <td>0</td>\n",
              "    </tr>\n",
              "    <tr>\n",
              "      <th>2</th>\n",
              "      <td>img/Mineral_Wash_Mini_Skirt/img_00000003.jpg</td>\n",
              "      <td>0</td>\n",
              "      <td>0</td>\n",
              "      <td>0</td>\n",
              "      <td>1</td>\n",
              "      <td>0</td>\n",
              "      <td>0</td>\n",
              "      <td>0</td>\n",
              "      <td>0</td>\n",
              "      <td>0</td>\n",
              "      <td>0</td>\n",
              "      <td>0</td>\n",
              "      <td>0</td>\n",
              "      <td>0</td>\n",
              "      <td>0</td>\n",
              "      <td>1</td>\n",
              "    </tr>\n",
              "    <tr>\n",
              "      <th>3</th>\n",
              "      <td>img/Mineral_Wash_Mini_Skirt/img_00000004.jpg</td>\n",
              "      <td>0</td>\n",
              "      <td>0</td>\n",
              "      <td>0</td>\n",
              "      <td>0</td>\n",
              "      <td>0</td>\n",
              "      <td>0</td>\n",
              "      <td>0</td>\n",
              "      <td>0</td>\n",
              "      <td>0</td>\n",
              "      <td>0</td>\n",
              "      <td>0</td>\n",
              "      <td>1</td>\n",
              "      <td>0</td>\n",
              "      <td>0</td>\n",
              "      <td>1</td>\n",
              "    </tr>\n",
              "    <tr>\n",
              "      <th>4</th>\n",
              "      <td>img/Mineral_Wash_Mini_Skirt/img_00000005.jpg</td>\n",
              "      <td>0</td>\n",
              "      <td>0</td>\n",
              "      <td>0</td>\n",
              "      <td>1</td>\n",
              "      <td>0</td>\n",
              "      <td>0</td>\n",
              "      <td>0</td>\n",
              "      <td>0</td>\n",
              "      <td>0</td>\n",
              "      <td>0</td>\n",
              "      <td>0</td>\n",
              "      <td>1</td>\n",
              "      <td>0</td>\n",
              "      <td>0</td>\n",
              "      <td>2</td>\n",
              "    </tr>\n",
              "  </tbody>\n",
              "</table>\n",
              "</div>"
            ],
            "text/plain": [
              "                                     Unnamed: 0  t_floral  ...  p_zipper  total\n",
              "0  img/Mineral_Wash_Mini_Skirt/img_00000001.jpg         0  ...         0      3\n",
              "1  img/Mineral_Wash_Mini_Skirt/img_00000002.jpg         0  ...         0      0\n",
              "2  img/Mineral_Wash_Mini_Skirt/img_00000003.jpg         0  ...         0      1\n",
              "3  img/Mineral_Wash_Mini_Skirt/img_00000004.jpg         0  ...         0      1\n",
              "4  img/Mineral_Wash_Mini_Skirt/img_00000005.jpg         0  ...         0      2\n",
              "\n",
              "[5 rows x 16 columns]"
            ]
          },
          "metadata": {},
          "execution_count": 146
        }
      ]
    },
    {
      "cell_type": "markdown",
      "metadata": {
        "id": "RVyA4-xvw5Dv"
      },
      "source": [
        "## Upper (Top Attributes)"
      ]
    },
    {
      "cell_type": "code",
      "metadata": {
        "id": "hOFN93xmwmFP"
      },
      "source": [
        "downloadedUpper = drive.CreateFile({'id':\"1K5VK5yDoVqFRIbaY5KKaRApkK4up3h27\"})\n",
        "downloadedUpper.GetContentFile('category-upper-all-everything.txt')"
      ],
      "execution_count": null,
      "outputs": []
    },
    {
      "cell_type": "code",
      "metadata": {
        "colab": {
          "base_uri": "https://localhost:8080/",
          "height": 230
        },
        "id": "9DuGJh4owxD-",
        "outputId": "f3e1ea3b-c2ae-4134-ad6d-469d5bab0d97"
      },
      "source": [
        "df_upper = pd.read_csv('category-upper-all-everything.txt', sep=\":\")\n",
        "df_upper.head(3)"
      ],
      "execution_count": null,
      "outputs": [
        {
          "output_type": "execute_result",
          "data": {
            "text/html": [
              "<div>\n",
              "<style scoped>\n",
              "    .dataframe tbody tr th:only-of-type {\n",
              "        vertical-align: middle;\n",
              "    }\n",
              "\n",
              "    .dataframe tbody tr th {\n",
              "        vertical-align: top;\n",
              "    }\n",
              "\n",
              "    .dataframe thead th {\n",
              "        text-align: right;\n",
              "    }\n",
              "</style>\n",
              "<table border=\"1\" class=\"dataframe\">\n",
              "  <thead>\n",
              "    <tr style=\"text-align: right;\">\n",
              "      <th></th>\n",
              "      <th>Unnamed: 0</th>\n",
              "      <th>t_floral</th>\n",
              "      <th>t_stripe</th>\n",
              "      <th>t_dot</th>\n",
              "      <th>f_lace</th>\n",
              "      <th>f_denim</th>\n",
              "      <th>f_chiffon</th>\n",
              "      <th>f_cotton</th>\n",
              "      <th>f_leather</th>\n",
              "      <th>f_fur</th>\n",
              "      <th>p_sleeveless</th>\n",
              "      <th>p_long-sleeve</th>\n",
              "      <th>p_collar</th>\n",
              "      <th>p_pocket</th>\n",
              "      <th>p_v-neck</th>\n",
              "      <th>p_button</th>\n",
              "      <th>p_hooded</th>\n",
              "      <th>p_zipper</th>\n",
              "      <th>total</th>\n",
              "    </tr>\n",
              "  </thead>\n",
              "  <tbody>\n",
              "    <tr>\n",
              "      <th>0</th>\n",
              "      <td>img/Sheer_Pleated-Front_Blouse/img_00000001.jpg</td>\n",
              "      <td>0</td>\n",
              "      <td>0</td>\n",
              "      <td>0</td>\n",
              "      <td>0</td>\n",
              "      <td>0</td>\n",
              "      <td>0</td>\n",
              "      <td>0</td>\n",
              "      <td>0</td>\n",
              "      <td>0</td>\n",
              "      <td>0</td>\n",
              "      <td>0</td>\n",
              "      <td>0</td>\n",
              "      <td>0</td>\n",
              "      <td>0</td>\n",
              "      <td>0</td>\n",
              "      <td>0</td>\n",
              "      <td>0</td>\n",
              "      <td>0</td>\n",
              "    </tr>\n",
              "    <tr>\n",
              "      <th>1</th>\n",
              "      <td>img/Sheer_Pleated-Front_Blouse/img_00000002.jpg</td>\n",
              "      <td>0</td>\n",
              "      <td>0</td>\n",
              "      <td>0</td>\n",
              "      <td>0</td>\n",
              "      <td>0</td>\n",
              "      <td>0</td>\n",
              "      <td>0</td>\n",
              "      <td>0</td>\n",
              "      <td>0</td>\n",
              "      <td>0</td>\n",
              "      <td>0</td>\n",
              "      <td>0</td>\n",
              "      <td>0</td>\n",
              "      <td>0</td>\n",
              "      <td>0</td>\n",
              "      <td>0</td>\n",
              "      <td>0</td>\n",
              "      <td>0</td>\n",
              "    </tr>\n",
              "    <tr>\n",
              "      <th>2</th>\n",
              "      <td>img/Sheer_Pleated-Front_Blouse/img_00000003.jpg</td>\n",
              "      <td>0</td>\n",
              "      <td>0</td>\n",
              "      <td>0</td>\n",
              "      <td>0</td>\n",
              "      <td>0</td>\n",
              "      <td>0</td>\n",
              "      <td>0</td>\n",
              "      <td>0</td>\n",
              "      <td>0</td>\n",
              "      <td>1</td>\n",
              "      <td>0</td>\n",
              "      <td>0</td>\n",
              "      <td>0</td>\n",
              "      <td>1</td>\n",
              "      <td>0</td>\n",
              "      <td>0</td>\n",
              "      <td>0</td>\n",
              "      <td>2</td>\n",
              "    </tr>\n",
              "  </tbody>\n",
              "</table>\n",
              "</div>"
            ],
            "text/plain": [
              "                                        Unnamed: 0  t_floral  ...  p_zipper  total\n",
              "0  img/Sheer_Pleated-Front_Blouse/img_00000001.jpg         0  ...         0      0\n",
              "1  img/Sheer_Pleated-Front_Blouse/img_00000002.jpg         0  ...         0      0\n",
              "2  img/Sheer_Pleated-Front_Blouse/img_00000003.jpg         0  ...         0      2\n",
              "\n",
              "[3 rows x 19 columns]"
            ]
          },
          "metadata": {},
          "execution_count": 148
        }
      ]
    },
    {
      "cell_type": "markdown",
      "metadata": {
        "id": "SEHNCRgHxFd3"
      },
      "source": [
        "## Cleaning the upper"
      ]
    },
    {
      "cell_type": "code",
      "metadata": {
        "colab": {
          "base_uri": "https://localhost:8080/",
          "height": 419
        },
        "id": "lGpVTVUXw4z5",
        "outputId": "32353933-7f03-4609-e97f-4f00910203e9"
      },
      "source": [
        "del df_upper['total']\n",
        "df_upper = df_upper.iloc[: , 1:]\n",
        "df_upper"
      ],
      "execution_count": null,
      "outputs": [
        {
          "output_type": "execute_result",
          "data": {
            "text/html": [
              "<div>\n",
              "<style scoped>\n",
              "    .dataframe tbody tr th:only-of-type {\n",
              "        vertical-align: middle;\n",
              "    }\n",
              "\n",
              "    .dataframe tbody tr th {\n",
              "        vertical-align: top;\n",
              "    }\n",
              "\n",
              "    .dataframe thead th {\n",
              "        text-align: right;\n",
              "    }\n",
              "</style>\n",
              "<table border=\"1\" class=\"dataframe\">\n",
              "  <thead>\n",
              "    <tr style=\"text-align: right;\">\n",
              "      <th></th>\n",
              "      <th>t_floral</th>\n",
              "      <th>t_stripe</th>\n",
              "      <th>t_dot</th>\n",
              "      <th>f_lace</th>\n",
              "      <th>f_denim</th>\n",
              "      <th>f_chiffon</th>\n",
              "      <th>f_cotton</th>\n",
              "      <th>f_leather</th>\n",
              "      <th>f_fur</th>\n",
              "      <th>p_sleeveless</th>\n",
              "      <th>p_long-sleeve</th>\n",
              "      <th>p_collar</th>\n",
              "      <th>p_pocket</th>\n",
              "      <th>p_v-neck</th>\n",
              "      <th>p_button</th>\n",
              "      <th>p_hooded</th>\n",
              "      <th>p_zipper</th>\n",
              "    </tr>\n",
              "  </thead>\n",
              "  <tbody>\n",
              "    <tr>\n",
              "      <th>0</th>\n",
              "      <td>0</td>\n",
              "      <td>0</td>\n",
              "      <td>0</td>\n",
              "      <td>0</td>\n",
              "      <td>0</td>\n",
              "      <td>0</td>\n",
              "      <td>0</td>\n",
              "      <td>0</td>\n",
              "      <td>0</td>\n",
              "      <td>0</td>\n",
              "      <td>0</td>\n",
              "      <td>0</td>\n",
              "      <td>0</td>\n",
              "      <td>0</td>\n",
              "      <td>0</td>\n",
              "      <td>0</td>\n",
              "      <td>0</td>\n",
              "    </tr>\n",
              "    <tr>\n",
              "      <th>1</th>\n",
              "      <td>0</td>\n",
              "      <td>0</td>\n",
              "      <td>0</td>\n",
              "      <td>0</td>\n",
              "      <td>0</td>\n",
              "      <td>0</td>\n",
              "      <td>0</td>\n",
              "      <td>0</td>\n",
              "      <td>0</td>\n",
              "      <td>0</td>\n",
              "      <td>0</td>\n",
              "      <td>0</td>\n",
              "      <td>0</td>\n",
              "      <td>0</td>\n",
              "      <td>0</td>\n",
              "      <td>0</td>\n",
              "      <td>0</td>\n",
              "    </tr>\n",
              "    <tr>\n",
              "      <th>2</th>\n",
              "      <td>0</td>\n",
              "      <td>0</td>\n",
              "      <td>0</td>\n",
              "      <td>0</td>\n",
              "      <td>0</td>\n",
              "      <td>0</td>\n",
              "      <td>0</td>\n",
              "      <td>0</td>\n",
              "      <td>0</td>\n",
              "      <td>1</td>\n",
              "      <td>0</td>\n",
              "      <td>0</td>\n",
              "      <td>0</td>\n",
              "      <td>1</td>\n",
              "      <td>0</td>\n",
              "      <td>0</td>\n",
              "      <td>0</td>\n",
              "    </tr>\n",
              "    <tr>\n",
              "      <th>3</th>\n",
              "      <td>0</td>\n",
              "      <td>0</td>\n",
              "      <td>0</td>\n",
              "      <td>0</td>\n",
              "      <td>0</td>\n",
              "      <td>0</td>\n",
              "      <td>0</td>\n",
              "      <td>0</td>\n",
              "      <td>0</td>\n",
              "      <td>0</td>\n",
              "      <td>0</td>\n",
              "      <td>0</td>\n",
              "      <td>0</td>\n",
              "      <td>0</td>\n",
              "      <td>0</td>\n",
              "      <td>0</td>\n",
              "      <td>0</td>\n",
              "    </tr>\n",
              "    <tr>\n",
              "      <th>4</th>\n",
              "      <td>0</td>\n",
              "      <td>0</td>\n",
              "      <td>0</td>\n",
              "      <td>0</td>\n",
              "      <td>0</td>\n",
              "      <td>0</td>\n",
              "      <td>0</td>\n",
              "      <td>0</td>\n",
              "      <td>0</td>\n",
              "      <td>0</td>\n",
              "      <td>0</td>\n",
              "      <td>0</td>\n",
              "      <td>0</td>\n",
              "      <td>0</td>\n",
              "      <td>0</td>\n",
              "      <td>0</td>\n",
              "      <td>0</td>\n",
              "    </tr>\n",
              "    <tr>\n",
              "      <th>...</th>\n",
              "      <td>...</td>\n",
              "      <td>...</td>\n",
              "      <td>...</td>\n",
              "      <td>...</td>\n",
              "      <td>...</td>\n",
              "      <td>...</td>\n",
              "      <td>...</td>\n",
              "      <td>...</td>\n",
              "      <td>...</td>\n",
              "      <td>...</td>\n",
              "      <td>...</td>\n",
              "      <td>...</td>\n",
              "      <td>...</td>\n",
              "      <td>...</td>\n",
              "      <td>...</td>\n",
              "      <td>...</td>\n",
              "      <td>...</td>\n",
              "    </tr>\n",
              "    <tr>\n",
              "      <th>139704</th>\n",
              "      <td>0</td>\n",
              "      <td>0</td>\n",
              "      <td>0</td>\n",
              "      <td>0</td>\n",
              "      <td>0</td>\n",
              "      <td>1</td>\n",
              "      <td>0</td>\n",
              "      <td>0</td>\n",
              "      <td>0</td>\n",
              "      <td>0</td>\n",
              "      <td>0</td>\n",
              "      <td>0</td>\n",
              "      <td>0</td>\n",
              "      <td>0</td>\n",
              "      <td>0</td>\n",
              "      <td>0</td>\n",
              "      <td>0</td>\n",
              "    </tr>\n",
              "    <tr>\n",
              "      <th>139705</th>\n",
              "      <td>0</td>\n",
              "      <td>0</td>\n",
              "      <td>0</td>\n",
              "      <td>0</td>\n",
              "      <td>0</td>\n",
              "      <td>0</td>\n",
              "      <td>0</td>\n",
              "      <td>0</td>\n",
              "      <td>0</td>\n",
              "      <td>0</td>\n",
              "      <td>0</td>\n",
              "      <td>0</td>\n",
              "      <td>0</td>\n",
              "      <td>0</td>\n",
              "      <td>0</td>\n",
              "      <td>0</td>\n",
              "      <td>0</td>\n",
              "    </tr>\n",
              "    <tr>\n",
              "      <th>139706</th>\n",
              "      <td>0</td>\n",
              "      <td>0</td>\n",
              "      <td>0</td>\n",
              "      <td>0</td>\n",
              "      <td>0</td>\n",
              "      <td>0</td>\n",
              "      <td>0</td>\n",
              "      <td>0</td>\n",
              "      <td>0</td>\n",
              "      <td>0</td>\n",
              "      <td>0</td>\n",
              "      <td>0</td>\n",
              "      <td>0</td>\n",
              "      <td>0</td>\n",
              "      <td>0</td>\n",
              "      <td>0</td>\n",
              "      <td>0</td>\n",
              "    </tr>\n",
              "    <tr>\n",
              "      <th>139707</th>\n",
              "      <td>0</td>\n",
              "      <td>0</td>\n",
              "      <td>0</td>\n",
              "      <td>0</td>\n",
              "      <td>0</td>\n",
              "      <td>0</td>\n",
              "      <td>0</td>\n",
              "      <td>0</td>\n",
              "      <td>0</td>\n",
              "      <td>0</td>\n",
              "      <td>0</td>\n",
              "      <td>0</td>\n",
              "      <td>0</td>\n",
              "      <td>0</td>\n",
              "      <td>0</td>\n",
              "      <td>0</td>\n",
              "      <td>0</td>\n",
              "    </tr>\n",
              "    <tr>\n",
              "      <th>139708</th>\n",
              "      <td>0</td>\n",
              "      <td>0</td>\n",
              "      <td>0</td>\n",
              "      <td>0</td>\n",
              "      <td>0</td>\n",
              "      <td>0</td>\n",
              "      <td>0</td>\n",
              "      <td>0</td>\n",
              "      <td>0</td>\n",
              "      <td>0</td>\n",
              "      <td>0</td>\n",
              "      <td>0</td>\n",
              "      <td>0</td>\n",
              "      <td>0</td>\n",
              "      <td>0</td>\n",
              "      <td>0</td>\n",
              "      <td>0</td>\n",
              "    </tr>\n",
              "  </tbody>\n",
              "</table>\n",
              "<p>139709 rows × 17 columns</p>\n",
              "</div>"
            ],
            "text/plain": [
              "        t_floral  t_stripe  t_dot  ...  p_button  p_hooded  p_zipper\n",
              "0              0         0      0  ...         0         0         0\n",
              "1              0         0      0  ...         0         0         0\n",
              "2              0         0      0  ...         0         0         0\n",
              "3              0         0      0  ...         0         0         0\n",
              "4              0         0      0  ...         0         0         0\n",
              "...          ...       ...    ...  ...       ...       ...       ...\n",
              "139704         0         0      0  ...         0         0         0\n",
              "139705         0         0      0  ...         0         0         0\n",
              "139706         0         0      0  ...         0         0         0\n",
              "139707         0         0      0  ...         0         0         0\n",
              "139708         0         0      0  ...         0         0         0\n",
              "\n",
              "[139709 rows x 17 columns]"
            ]
          },
          "metadata": {},
          "execution_count": 149
        }
      ]
    },
    {
      "cell_type": "markdown",
      "metadata": {
        "id": "-OpA_IPpxOoG"
      },
      "source": [
        "### Scaling"
      ]
    },
    {
      "cell_type": "code",
      "metadata": {
        "colab": {
          "base_uri": "https://localhost:8080/",
          "height": 295
        },
        "id": "tZy8aGQRyYtE",
        "outputId": "3fd0f69f-cf59-4ed5-833f-169c4386842b"
      },
      "source": [
        "SSE = []\n",
        "for i in range(1,20):\n",
        "    kmeans = KMeans(n_clusters=i,init='k-means++',max_iter=1500,n_init=10,random_state=0)\n",
        "    kmeans.fit(df_upper)\n",
        "    SSE.append(kmeans.inertia_)\n",
        "plt.plot(range(1,20),SSE)\n",
        "plt.title('Elbow Curve')\n",
        "plt.xlabel('Number of clusters')\n",
        "plt.ylabel('Score')\n",
        "plt.show()"
      ],
      "execution_count": null,
      "outputs": [
        {
          "output_type": "display_data",
          "data": {
            "image/png": "[encoded data removed]",
            "text/plain": [
              "<Figure size 432x288 with 1 Axes>"
            ]
          },
          "metadata": {
            "needs_background": "light"
          }
        }
      ]
    },
    {
      "cell_type": "code",
      "metadata": {
        "colab": {
          "base_uri": "https://localhost:8080/"
        },
        "id": "fp26Ewj8xE64",
        "outputId": "e97c989b-e876-4473-e68d-8bd447e4e42c"
      },
      "source": [
        "## Feature Scaling\n",
        "StandardScaler = StandardScaler()\n",
        "df_upper_standardscalar = StandardScaler.fit_transform(df_upper)\n",
        "df_upper_standardscalar"
      ],
      "execution_count": null,
      "outputs": [
        {
          "output_type": "execute_result",
          "data": {
            "text/plain": [
              "array([[-0.231355, -0.307651, -0.131505, -0.218336, ..., -0.166214, -0.175879, -0.163788, -0.163165],\n",
              "       [-0.231355, -0.307651, -0.131505, -0.218336, ..., -0.166214, -0.175879, -0.163788, -0.163165],\n",
              "       [-0.231355, -0.307651, -0.131505, -0.218336, ...,  6.016329, -0.175879, -0.163788, -0.163165],\n",
              "       [-0.231355, -0.307651, -0.131505, -0.218336, ..., -0.166214, -0.175879, -0.163788, -0.163165],\n",
              "       ...,\n",
              "       [-0.231355, -0.307651, -0.131505, -0.218336, ..., -0.166214, -0.175879, -0.163788, -0.163165],\n",
              "       [-0.231355, -0.307651, -0.131505, -0.218336, ..., -0.166214, -0.175879, -0.163788, -0.163165],\n",
              "       [-0.231355, -0.307651, -0.131505, -0.218336, ..., -0.166214, -0.175879, -0.163788, -0.163165],\n",
              "       [-0.231355, -0.307651, -0.131505, -0.218336, ..., -0.166214, -0.175879, -0.163788, -0.163165]])"
            ]
          },
          "metadata": {},
          "execution_count": 151
        }
      ]
    },
    {
      "cell_type": "code",
      "metadata": {
        "colab": {
          "base_uri": "https://localhost:8080/"
        },
        "id": "Pu75k-llxOX-",
        "outputId": "55630306-a370-470c-eb0d-2b5170f8fc33"
      },
      "source": [
        "kmeans = KMeans(n_clusters=3, random_state=42).fit(df_upper_standardscalar)\n",
        "labels = kmeans.labels_\n",
        "kmeans"
      ],
      "execution_count": null,
      "outputs": [
        {
          "output_type": "execute_result",
          "data": {
            "text/plain": [
              "KMeans(n_clusters=3, random_state=42)"
            ]
          },
          "metadata": {},
          "execution_count": 152
        }
      ]
    },
    {
      "cell_type": "code",
      "metadata": {
        "colab": {
          "base_uri": "https://localhost:8080/",
          "height": 436
        },
        "id": "1kOKgIzFxU5P",
        "outputId": "3151fd19-f655-4ec0-ee1f-5805ed8c54ee"
      },
      "source": [
        "df_upper['label_kmeans'] = labels\n",
        "df_upper"
      ],
      "execution_count": null,
      "outputs": [
        {
          "output_type": "execute_result",
          "data": {
            "text/html": [
              "<div>\n",
              "<style scoped>\n",
              "    .dataframe tbody tr th:only-of-type {\n",
              "        vertical-align: middle;\n",
              "    }\n",
              "\n",
              "    .dataframe tbody tr th {\n",
              "        vertical-align: top;\n",
              "    }\n",
              "\n",
              "    .dataframe thead th {\n",
              "        text-align: right;\n",
              "    }\n",
              "</style>\n",
              "<table border=\"1\" class=\"dataframe\">\n",
              "  <thead>\n",
              "    <tr style=\"text-align: right;\">\n",
              "      <th></th>\n",
              "      <th>t_floral</th>\n",
              "      <th>t_stripe</th>\n",
              "      <th>t_dot</th>\n",
              "      <th>f_lace</th>\n",
              "      <th>f_denim</th>\n",
              "      <th>f_chiffon</th>\n",
              "      <th>f_cotton</th>\n",
              "      <th>f_leather</th>\n",
              "      <th>f_fur</th>\n",
              "      <th>p_sleeveless</th>\n",
              "      <th>p_long-sleeve</th>\n",
              "      <th>p_collar</th>\n",
              "      <th>p_pocket</th>\n",
              "      <th>p_v-neck</th>\n",
              "      <th>p_button</th>\n",
              "      <th>p_hooded</th>\n",
              "      <th>p_zipper</th>\n",
              "      <th>label_kmeans</th>\n",
              "    </tr>\n",
              "  </thead>\n",
              "  <tbody>\n",
              "    <tr>\n",
              "      <th>0</th>\n",
              "      <td>0</td>\n",
              "      <td>0</td>\n",
              "      <td>0</td>\n",
              "      <td>0</td>\n",
              "      <td>0</td>\n",
              "      <td>0</td>\n",
              "      <td>0</td>\n",
              "      <td>0</td>\n",
              "      <td>0</td>\n",
              "      <td>0</td>\n",
              "      <td>0</td>\n",
              "      <td>0</td>\n",
              "      <td>0</td>\n",
              "      <td>0</td>\n",
              "      <td>0</td>\n",
              "      <td>0</td>\n",
              "      <td>0</td>\n",
              "      <td>0</td>\n",
              "    </tr>\n",
              "    <tr>\n",
              "      <th>1</th>\n",
              "      <td>0</td>\n",
              "      <td>0</td>\n",
              "      <td>0</td>\n",
              "      <td>0</td>\n",
              "      <td>0</td>\n",
              "      <td>0</td>\n",
              "      <td>0</td>\n",
              "      <td>0</td>\n",
              "      <td>0</td>\n",
              "      <td>0</td>\n",
              "      <td>0</td>\n",
              "      <td>0</td>\n",
              "      <td>0</td>\n",
              "      <td>0</td>\n",
              "      <td>0</td>\n",
              "      <td>0</td>\n",
              "      <td>0</td>\n",
              "      <td>0</td>\n",
              "    </tr>\n",
              "    <tr>\n",
              "      <th>2</th>\n",
              "      <td>0</td>\n",
              "      <td>0</td>\n",
              "      <td>0</td>\n",
              "      <td>0</td>\n",
              "      <td>0</td>\n",
              "      <td>0</td>\n",
              "      <td>0</td>\n",
              "      <td>0</td>\n",
              "      <td>0</td>\n",
              "      <td>1</td>\n",
              "      <td>0</td>\n",
              "      <td>0</td>\n",
              "      <td>0</td>\n",
              "      <td>1</td>\n",
              "      <td>0</td>\n",
              "      <td>0</td>\n",
              "      <td>0</td>\n",
              "      <td>0</td>\n",
              "    </tr>\n",
              "    <tr>\n",
              "      <th>3</th>\n",
              "      <td>0</td>\n",
              "      <td>0</td>\n",
              "      <td>0</td>\n",
              "      <td>0</td>\n",
              "      <td>0</td>\n",
              "      <td>0</td>\n",
              "      <td>0</td>\n",
              "      <td>0</td>\n",
              "      <td>0</td>\n",
              "      <td>0</td>\n",
              "      <td>0</td>\n",
              "      <td>0</td>\n",
              "      <td>0</td>\n",
              "      <td>0</td>\n",
              "      <td>0</td>\n",
              "      <td>0</td>\n",
              "      <td>0</td>\n",
              "      <td>0</td>\n",
              "    </tr>\n",
              "    <tr>\n",
              "      <th>4</th>\n",
              "      <td>0</td>\n",
              "      <td>0</td>\n",
              "      <td>0</td>\n",
              "      <td>0</td>\n",
              "      <td>0</td>\n",
              "      <td>0</td>\n",
              "      <td>0</td>\n",
              "      <td>0</td>\n",
              "      <td>0</td>\n",
              "      <td>0</td>\n",
              "      <td>0</td>\n",
              "      <td>0</td>\n",
              "      <td>0</td>\n",
              "      <td>0</td>\n",
              "      <td>0</td>\n",
              "      <td>0</td>\n",
              "      <td>0</td>\n",
              "      <td>0</td>\n",
              "    </tr>\n",
              "    <tr>\n",
              "      <th>...</th>\n",
              "      <td>...</td>\n",
              "      <td>...</td>\n",
              "      <td>...</td>\n",
              "      <td>...</td>\n",
              "      <td>...</td>\n",
              "      <td>...</td>\n",
              "      <td>...</td>\n",
              "      <td>...</td>\n",
              "      <td>...</td>\n",
              "      <td>...</td>\n",
              "      <td>...</td>\n",
              "      <td>...</td>\n",
              "      <td>...</td>\n",
              "      <td>...</td>\n",
              "      <td>...</td>\n",
              "      <td>...</td>\n",
              "      <td>...</td>\n",
              "      <td>...</td>\n",
              "    </tr>\n",
              "    <tr>\n",
              "      <th>139704</th>\n",
              "      <td>0</td>\n",
              "      <td>0</td>\n",
              "      <td>0</td>\n",
              "      <td>0</td>\n",
              "      <td>0</td>\n",
              "      <td>1</td>\n",
              "      <td>0</td>\n",
              "      <td>0</td>\n",
              "      <td>0</td>\n",
              "      <td>0</td>\n",
              "      <td>0</td>\n",
              "      <td>0</td>\n",
              "      <td>0</td>\n",
              "      <td>0</td>\n",
              "      <td>0</td>\n",
              "      <td>0</td>\n",
              "      <td>0</td>\n",
              "      <td>0</td>\n",
              "    </tr>\n",
              "    <tr>\n",
              "      <th>139705</th>\n",
              "      <td>0</td>\n",
              "      <td>0</td>\n",
              "      <td>0</td>\n",
              "      <td>0</td>\n",
              "      <td>0</td>\n",
              "      <td>0</td>\n",
              "      <td>0</td>\n",
              "      <td>0</td>\n",
              "      <td>0</td>\n",
              "      <td>0</td>\n",
              "      <td>0</td>\n",
              "      <td>0</td>\n",
              "      <td>0</td>\n",
              "      <td>0</td>\n",
              "      <td>0</td>\n",
              "      <td>0</td>\n",
              "      <td>0</td>\n",
              "      <td>0</td>\n",
              "    </tr>\n",
              "    <tr>\n",
              "      <th>139706</th>\n",
              "      <td>0</td>\n",
              "      <td>0</td>\n",
              "      <td>0</td>\n",
              "      <td>0</td>\n",
              "      <td>0</td>\n",
              "      <td>0</td>\n",
              "      <td>0</td>\n",
              "      <td>0</td>\n",
              "      <td>0</td>\n",
              "      <td>0</td>\n",
              "      <td>0</td>\n",
              "      <td>0</td>\n",
              "      <td>0</td>\n",
              "      <td>0</td>\n",
              "      <td>0</td>\n",
              "      <td>0</td>\n",
              "      <td>0</td>\n",
              "      <td>0</td>\n",
              "    </tr>\n",
              "    <tr>\n",
              "      <th>139707</th>\n",
              "      <td>0</td>\n",
              "      <td>0</td>\n",
              "      <td>0</td>\n",
              "      <td>0</td>\n",
              "      <td>0</td>\n",
              "      <td>0</td>\n",
              "      <td>0</td>\n",
              "      <td>0</td>\n",
              "      <td>0</td>\n",
              "      <td>0</td>\n",
              "      <td>0</td>\n",
              "      <td>0</td>\n",
              "      <td>0</td>\n",
              "      <td>0</td>\n",
              "      <td>0</td>\n",
              "      <td>0</td>\n",
              "      <td>0</td>\n",
              "      <td>0</td>\n",
              "    </tr>\n",
              "    <tr>\n",
              "      <th>139708</th>\n",
              "      <td>0</td>\n",
              "      <td>0</td>\n",
              "      <td>0</td>\n",
              "      <td>0</td>\n",
              "      <td>0</td>\n",
              "      <td>0</td>\n",
              "      <td>0</td>\n",
              "      <td>0</td>\n",
              "      <td>0</td>\n",
              "      <td>0</td>\n",
              "      <td>0</td>\n",
              "      <td>0</td>\n",
              "      <td>0</td>\n",
              "      <td>0</td>\n",
              "      <td>0</td>\n",
              "      <td>0</td>\n",
              "      <td>0</td>\n",
              "      <td>0</td>\n",
              "    </tr>\n",
              "  </tbody>\n",
              "</table>\n",
              "<p>139709 rows × 18 columns</p>\n",
              "</div>"
            ],
            "text/plain": [
              "        t_floral  t_stripe  t_dot  ...  p_hooded  p_zipper  label_kmeans\n",
              "0              0         0      0  ...         0         0             0\n",
              "1              0         0      0  ...         0         0             0\n",
              "2              0         0      0  ...         0         0             0\n",
              "3              0         0      0  ...         0         0             0\n",
              "4              0         0      0  ...         0         0             0\n",
              "...          ...       ...    ...  ...       ...       ...           ...\n",
              "139704         0         0      0  ...         0         0             0\n",
              "139705         0         0      0  ...         0         0             0\n",
              "139706         0         0      0  ...         0         0             0\n",
              "139707         0         0      0  ...         0         0             0\n",
              "139708         0         0      0  ...         0         0             0\n",
              "\n",
              "[139709 rows x 18 columns]"
            ]
          },
          "metadata": {},
          "execution_count": 153
        }
      ]
    },
    {
      "cell_type": "code",
      "metadata": {
        "colab": {
          "base_uri": "https://localhost:8080/"
        },
        "id": "pkFfS9t97V-X",
        "outputId": "685550d8-efad-4877-d8cd-ba67e6c567c7"
      },
      "source": [
        "histCounter=Counter(df_upper[\"label_kmeans\"])\n",
        "histCounter"
      ],
      "execution_count": null,
      "outputs": [
        {
          "output_type": "execute_result",
          "data": {
            "text/plain": [
              "Counter({0: 129652, 1: 3767, 2: 6290})"
            ]
          },
          "metadata": {},
          "execution_count": 154
        }
      ]
    },
    {
      "cell_type": "code",
      "metadata": {
        "colab": {
          "base_uri": "https://localhost:8080/",
          "height": 282
        },
        "id": "RoYLjru78pw4",
        "outputId": "f2d10626-53ee-4bcd-af0a-fcfdf7364e9d"
      },
      "source": [
        "plt.bar(histCounter.keys(), histCounter.values())\n"
      ],
      "execution_count": null,
      "outputs": [
        {
          "output_type": "execute_result",
          "data": {
            "text/plain": [
              "<BarContainer object of 3 artists>"
            ]
          },
          "metadata": {},
          "execution_count": 155
        },
        {
          "output_type": "display_data",
          "data": {
            "image/png": "[encoded data removed]",
            "text/plain": [
              "<Figure size 432x288 with 1 Axes>"
            ]
          },
          "metadata": {
            "needs_background": "light"
          }
        }
      ]
    },
    {
      "cell_type": "markdown",
      "metadata": {
        "id": "JGq3njrTxcAj"
      },
      "source": [
        "## Predicting the clusters with the upper incomming attributes "
      ]
    },
    {
      "cell_type": "code",
      "metadata": {
        "colab": {
          "base_uri": "https://localhost:8080/"
        },
        "id": "EoPyO8E7xW3I",
        "outputId": "4ce141c8-5ec0-440a-9dec-b9403b070bd2"
      },
      "source": [
        "import pickle\n",
        "filename = 'df_upper_kmeans.pkl'\n",
        "pickle.dump(kmeans, open(filename, 'wb'))\n",
        "loaded_model = pickle.load(open(filename, 'rb'))\n",
        "loaded_model"
      ],
      "execution_count": null,
      "outputs": [
        {
          "output_type": "execute_result",
          "data": {
            "text/plain": [
              "KMeans(n_clusters=3, random_state=42)"
            ]
          },
          "metadata": {},
          "execution_count": 156
        }
      ]
    },
    {
      "cell_type": "code",
      "metadata": {
        "colab": {
          "base_uri": "https://localhost:8080/"
        },
        "id": "rD97j1Y6xlHy",
        "outputId": "6f28e685-7f25-4591-831f-798354a491b2"
      },
      "source": [
        "from sklearn.metrics import pairwise_distances_argmin_min\n",
        "from collections import Counter\n",
        "\n",
        "pred=[1, 1,\t0,\t0,\t0,\t1,\t1,\t1,\t1,\t0,\t0,\t0,\t0,\t1,\t1,\t1,\t0]\n",
        "pred=np.asarray(pred)\n",
        "loaded_model_test=loaded_model.fit(pred.reshape(-1, 1))\n",
        "closest, _ = pairwise_distances_argmin_min(loaded_model.cluster_centers_, pred.reshape(-1, 1))\n",
        "closest\n",
        "b = Counter(closest)\n",
        "b.most_common(1)[0][0]"
      ],
      "execution_count": null,
      "outputs": [
        {
          "output_type": "execute_result",
          "data": {
            "text/plain": [
              "2"
            ]
          },
          "metadata": {},
          "execution_count": 157
        }
      ]
    },
    {
      "cell_type": "code",
      "metadata": {
        "id": "R9t-5B5txsyM"
      },
      "source": [
        "centers = kmeans.cluster_centers_"
      ],
      "execution_count": null,
      "outputs": []
    },
    {
      "cell_type": "code",
      "metadata": {
        "colab": {
          "base_uri": "https://localhost:8080/",
          "height": 419
        },
        "id": "bhRoc5ftxur1",
        "outputId": "0034df1f-4b00-46bf-bcb1-e7574f343b9c"
      },
      "source": [
        "reduced_data = PCA(n_components=2).fit_transform(df_upper_standardscalar)\n",
        "principalDf = pd.DataFrame(data = reduced_data\n",
        "             , columns = ['principal component 1', 'principal component 2'])\n",
        "principalDf"
      ],
      "execution_count": null,
      "outputs": [
        {
          "output_type": "execute_result",
          "data": {
            "text/html": [
              "<div>\n",
              "<style scoped>\n",
              "    .dataframe tbody tr th:only-of-type {\n",
              "        vertical-align: middle;\n",
              "    }\n",
              "\n",
              "    .dataframe tbody tr th {\n",
              "        vertical-align: top;\n",
              "    }\n",
              "\n",
              "    .dataframe thead th {\n",
              "        text-align: right;\n",
              "    }\n",
              "</style>\n",
              "<table border=\"1\" class=\"dataframe\">\n",
              "  <thead>\n",
              "    <tr style=\"text-align: right;\">\n",
              "      <th></th>\n",
              "      <th>principal component 1</th>\n",
              "      <th>principal component 2</th>\n",
              "    </tr>\n",
              "  </thead>\n",
              "  <tbody>\n",
              "    <tr>\n",
              "      <th>0</th>\n",
              "      <td>-0.198904</td>\n",
              "      <td>-0.385052</td>\n",
              "    </tr>\n",
              "    <tr>\n",
              "      <th>1</th>\n",
              "      <td>-0.198904</td>\n",
              "      <td>-0.385052</td>\n",
              "    </tr>\n",
              "    <tr>\n",
              "      <th>2</th>\n",
              "      <td>-0.543660</td>\n",
              "      <td>0.700057</td>\n",
              "    </tr>\n",
              "    <tr>\n",
              "      <th>3</th>\n",
              "      <td>-0.198904</td>\n",
              "      <td>-0.385052</td>\n",
              "    </tr>\n",
              "    <tr>\n",
              "      <th>4</th>\n",
              "      <td>-0.198904</td>\n",
              "      <td>-0.385052</td>\n",
              "    </tr>\n",
              "    <tr>\n",
              "      <th>...</th>\n",
              "      <td>...</td>\n",
              "      <td>...</td>\n",
              "    </tr>\n",
              "    <tr>\n",
              "      <th>139704</th>\n",
              "      <td>-0.428083</td>\n",
              "      <td>2.321864</td>\n",
              "    </tr>\n",
              "    <tr>\n",
              "      <th>139705</th>\n",
              "      <td>-0.198904</td>\n",
              "      <td>-0.385052</td>\n",
              "    </tr>\n",
              "    <tr>\n",
              "      <th>139706</th>\n",
              "      <td>-0.198904</td>\n",
              "      <td>-0.385052</td>\n",
              "    </tr>\n",
              "    <tr>\n",
              "      <th>139707</th>\n",
              "      <td>-0.198904</td>\n",
              "      <td>-0.385052</td>\n",
              "    </tr>\n",
              "    <tr>\n",
              "      <th>139708</th>\n",
              "      <td>-0.198904</td>\n",
              "      <td>-0.385052</td>\n",
              "    </tr>\n",
              "  </tbody>\n",
              "</table>\n",
              "<p>139709 rows × 2 columns</p>\n",
              "</div>"
            ],
            "text/plain": [
              "        principal component 1  principal component 2\n",
              "0                   -0.198904              -0.385052\n",
              "1                   -0.198904              -0.385052\n",
              "2                   -0.543660               0.700057\n",
              "3                   -0.198904              -0.385052\n",
              "4                   -0.198904              -0.385052\n",
              "...                       ...                    ...\n",
              "139704              -0.428083               2.321864\n",
              "139705              -0.198904              -0.385052\n",
              "139706              -0.198904              -0.385052\n",
              "139707              -0.198904              -0.385052\n",
              "139708              -0.198904              -0.385052\n",
              "\n",
              "[139709 rows x 2 columns]"
            ]
          },
          "metadata": {},
          "execution_count": 159
        }
      ]
    },
    {
      "cell_type": "code",
      "metadata": {
        "colab": {
          "base_uri": "https://localhost:8080/",
          "height": 296
        },
        "id": "njjUwfQUxzPo",
        "outputId": "47508a47-c010-4f86-b893-fba0e2a7e1fe"
      },
      "source": [
        "sns.scatterplot(x=\"principal component 1\", y=\"principal component 2\", hue=df_upper['label_kmeans'], data=principalDf)"
      ],
      "execution_count": null,
      "outputs": [
        {
          "output_type": "execute_result",
          "data": {
            "text/plain": [
              "<matplotlib.axes._subplots.AxesSubplot at 0x7f6027d955d0>"
            ]
          },
          "metadata": {},
          "execution_count": 160
        },
        {
          "output_type": "display_data",
          "data": {
            "image/png": "[encoded data removed]",
            "text/plain": [
              "<Figure size 432x288 with 1 Axes>"
            ]
          },
          "metadata": {
            "needs_background": "light"
          }
        }
      ]
    },
    {
      "cell_type": "markdown",
      "metadata": {
        "id": "CUSu488WyJZ_"
      },
      "source": [
        "## Cleaning the lower"
      ]
    },
    {
      "cell_type": "code",
      "metadata": {
        "colab": {
          "base_uri": "https://localhost:8080/",
          "height": 419
        },
        "id": "yqRJ5ds7x0bj",
        "outputId": "125f64dd-58b3-4803-ef87-f20a4f3ccc38"
      },
      "source": [
        "del df_lower['total']\n",
        "df_lower = df_lower.iloc[: , 1:]\n",
        "df_lower"
      ],
      "execution_count": null,
      "outputs": [
        {
          "output_type": "execute_result",
          "data": {
            "text/html": [
              "<div>\n",
              "<style scoped>\n",
              "    .dataframe tbody tr th:only-of-type {\n",
              "        vertical-align: middle;\n",
              "    }\n",
              "\n",
              "    .dataframe tbody tr th {\n",
              "        vertical-align: top;\n",
              "    }\n",
              "\n",
              "    .dataframe thead th {\n",
              "        text-align: right;\n",
              "    }\n",
              "</style>\n",
              "<table border=\"1\" class=\"dataframe\">\n",
              "  <thead>\n",
              "    <tr style=\"text-align: right;\">\n",
              "      <th></th>\n",
              "      <th>t_floral</th>\n",
              "      <th>t_stripe</th>\n",
              "      <th>t_dot</th>\n",
              "      <th>f_denim</th>\n",
              "      <th>f_leather</th>\n",
              "      <th>f_cotton</th>\n",
              "      <th>f_knit</th>\n",
              "      <th>f_pleated</th>\n",
              "      <th>s_fit</th>\n",
              "      <th>s_pencil</th>\n",
              "      <th>s_midi</th>\n",
              "      <th>s_mini</th>\n",
              "      <th>s_maxi</th>\n",
              "      <th>p_zipper</th>\n",
              "    </tr>\n",
              "  </thead>\n",
              "  <tbody>\n",
              "    <tr>\n",
              "      <th>0</th>\n",
              "      <td>0</td>\n",
              "      <td>0</td>\n",
              "      <td>0</td>\n",
              "      <td>1</td>\n",
              "      <td>0</td>\n",
              "      <td>0</td>\n",
              "      <td>0</td>\n",
              "      <td>0</td>\n",
              "      <td>0</td>\n",
              "      <td>1</td>\n",
              "      <td>1</td>\n",
              "      <td>0</td>\n",
              "      <td>0</td>\n",
              "      <td>0</td>\n",
              "    </tr>\n",
              "    <tr>\n",
              "      <th>1</th>\n",
              "      <td>0</td>\n",
              "      <td>0</td>\n",
              "      <td>0</td>\n",
              "      <td>0</td>\n",
              "      <td>0</td>\n",
              "      <td>0</td>\n",
              "      <td>0</td>\n",
              "      <td>0</td>\n",
              "      <td>0</td>\n",
              "      <td>0</td>\n",
              "      <td>0</td>\n",
              "      <td>0</td>\n",
              "      <td>0</td>\n",
              "      <td>0</td>\n",
              "    </tr>\n",
              "    <tr>\n",
              "      <th>2</th>\n",
              "      <td>0</td>\n",
              "      <td>0</td>\n",
              "      <td>0</td>\n",
              "      <td>1</td>\n",
              "      <td>0</td>\n",
              "      <td>0</td>\n",
              "      <td>0</td>\n",
              "      <td>0</td>\n",
              "      <td>0</td>\n",
              "      <td>0</td>\n",
              "      <td>0</td>\n",
              "      <td>0</td>\n",
              "      <td>0</td>\n",
              "      <td>0</td>\n",
              "    </tr>\n",
              "    <tr>\n",
              "      <th>3</th>\n",
              "      <td>0</td>\n",
              "      <td>0</td>\n",
              "      <td>0</td>\n",
              "      <td>0</td>\n",
              "      <td>0</td>\n",
              "      <td>0</td>\n",
              "      <td>0</td>\n",
              "      <td>0</td>\n",
              "      <td>0</td>\n",
              "      <td>0</td>\n",
              "      <td>0</td>\n",
              "      <td>1</td>\n",
              "      <td>0</td>\n",
              "      <td>0</td>\n",
              "    </tr>\n",
              "    <tr>\n",
              "      <th>4</th>\n",
              "      <td>0</td>\n",
              "      <td>0</td>\n",
              "      <td>0</td>\n",
              "      <td>1</td>\n",
              "      <td>0</td>\n",
              "      <td>0</td>\n",
              "      <td>0</td>\n",
              "      <td>0</td>\n",
              "      <td>0</td>\n",
              "      <td>0</td>\n",
              "      <td>0</td>\n",
              "      <td>1</td>\n",
              "      <td>0</td>\n",
              "      <td>0</td>\n",
              "    </tr>\n",
              "    <tr>\n",
              "      <th>...</th>\n",
              "      <td>...</td>\n",
              "      <td>...</td>\n",
              "      <td>...</td>\n",
              "      <td>...</td>\n",
              "      <td>...</td>\n",
              "      <td>...</td>\n",
              "      <td>...</td>\n",
              "      <td>...</td>\n",
              "      <td>...</td>\n",
              "      <td>...</td>\n",
              "      <td>...</td>\n",
              "      <td>...</td>\n",
              "      <td>...</td>\n",
              "      <td>...</td>\n",
              "    </tr>\n",
              "    <tr>\n",
              "      <th>58958</th>\n",
              "      <td>0</td>\n",
              "      <td>0</td>\n",
              "      <td>0</td>\n",
              "      <td>1</td>\n",
              "      <td>0</td>\n",
              "      <td>0</td>\n",
              "      <td>0</td>\n",
              "      <td>0</td>\n",
              "      <td>0</td>\n",
              "      <td>0</td>\n",
              "      <td>0</td>\n",
              "      <td>0</td>\n",
              "      <td>0</td>\n",
              "      <td>0</td>\n",
              "    </tr>\n",
              "    <tr>\n",
              "      <th>58959</th>\n",
              "      <td>0</td>\n",
              "      <td>0</td>\n",
              "      <td>0</td>\n",
              "      <td>1</td>\n",
              "      <td>0</td>\n",
              "      <td>0</td>\n",
              "      <td>0</td>\n",
              "      <td>0</td>\n",
              "      <td>0</td>\n",
              "      <td>0</td>\n",
              "      <td>0</td>\n",
              "      <td>0</td>\n",
              "      <td>0</td>\n",
              "      <td>0</td>\n",
              "    </tr>\n",
              "    <tr>\n",
              "      <th>58960</th>\n",
              "      <td>0</td>\n",
              "      <td>0</td>\n",
              "      <td>0</td>\n",
              "      <td>1</td>\n",
              "      <td>0</td>\n",
              "      <td>0</td>\n",
              "      <td>0</td>\n",
              "      <td>0</td>\n",
              "      <td>0</td>\n",
              "      <td>0</td>\n",
              "      <td>0</td>\n",
              "      <td>0</td>\n",
              "      <td>0</td>\n",
              "      <td>0</td>\n",
              "    </tr>\n",
              "    <tr>\n",
              "      <th>58961</th>\n",
              "      <td>0</td>\n",
              "      <td>0</td>\n",
              "      <td>0</td>\n",
              "      <td>0</td>\n",
              "      <td>0</td>\n",
              "      <td>0</td>\n",
              "      <td>0</td>\n",
              "      <td>0</td>\n",
              "      <td>0</td>\n",
              "      <td>0</td>\n",
              "      <td>0</td>\n",
              "      <td>0</td>\n",
              "      <td>0</td>\n",
              "      <td>0</td>\n",
              "    </tr>\n",
              "    <tr>\n",
              "      <th>58962</th>\n",
              "      <td>0</td>\n",
              "      <td>0</td>\n",
              "      <td>0</td>\n",
              "      <td>1</td>\n",
              "      <td>0</td>\n",
              "      <td>0</td>\n",
              "      <td>0</td>\n",
              "      <td>0</td>\n",
              "      <td>0</td>\n",
              "      <td>0</td>\n",
              "      <td>0</td>\n",
              "      <td>0</td>\n",
              "      <td>0</td>\n",
              "      <td>0</td>\n",
              "    </tr>\n",
              "  </tbody>\n",
              "</table>\n",
              "<p>58963 rows × 14 columns</p>\n",
              "</div>"
            ],
            "text/plain": [
              "       t_floral  t_stripe  t_dot  f_denim  ...  s_midi  s_mini  s_maxi  p_zipper\n",
              "0             0         0      0        1  ...       1       0       0         0\n",
              "1             0         0      0        0  ...       0       0       0         0\n",
              "2             0         0      0        1  ...       0       0       0         0\n",
              "3             0         0      0        0  ...       0       1       0         0\n",
              "4             0         0      0        1  ...       0       1       0         0\n",
              "...         ...       ...    ...      ...  ...     ...     ...     ...       ...\n",
              "58958         0         0      0        1  ...       0       0       0         0\n",
              "58959         0         0      0        1  ...       0       0       0         0\n",
              "58960         0         0      0        1  ...       0       0       0         0\n",
              "58961         0         0      0        0  ...       0       0       0         0\n",
              "58962         0         0      0        1  ...       0       0       0         0\n",
              "\n",
              "[58963 rows x 14 columns]"
            ]
          },
          "metadata": {},
          "execution_count": 161
        }
      ]
    },
    {
      "cell_type": "code",
      "metadata": {
        "id": "72fIoc5GyT1z"
      },
      "source": [
        "df_lower.to_csv(\"df_lower.csv\")"
      ],
      "execution_count": null,
      "outputs": []
    },
    {
      "cell_type": "code",
      "metadata": {
        "colab": {
          "base_uri": "https://localhost:8080/"
        },
        "id": "WcMVJ716yVUt",
        "outputId": "6b161ea3-52fa-4ba6-f946-4ef8f2da23ca"
      },
      "source": [
        "## Feature Scaling\n",
        "df_lower_standardscalar = StandardScaler.fit_transform(df_lower)\n",
        "df_lower_standardscalar"
      ],
      "execution_count": null,
      "outputs": [
        {
          "output_type": "execute_result",
          "data": {
            "text/plain": [
              "array([[-0.275515, -0.246248, -0.143643,  2.402641, ...,  6.291278, -0.230676, -0.186309, -0.172196],\n",
              "       [-0.275515, -0.246248, -0.143643, -0.416209, ..., -0.15895 , -0.230676, -0.186309, -0.172196],\n",
              "       [-0.275515, -0.246248, -0.143643,  2.402641, ..., -0.15895 , -0.230676, -0.186309, -0.172196],\n",
              "       [-0.275515, -0.246248, -0.143643, -0.416209, ..., -0.15895 ,  4.335076, -0.186309, -0.172196],\n",
              "       ...,\n",
              "       [-0.275515, -0.246248, -0.143643,  2.402641, ..., -0.15895 , -0.230676, -0.186309, -0.172196],\n",
              "       [-0.275515, -0.246248, -0.143643,  2.402641, ..., -0.15895 , -0.230676, -0.186309, -0.172196],\n",
              "       [-0.275515, -0.246248, -0.143643, -0.416209, ..., -0.15895 , -0.230676, -0.186309, -0.172196],\n",
              "       [-0.275515, -0.246248, -0.143643,  2.402641, ..., -0.15895 , -0.230676, -0.186309, -0.172196]])"
            ]
          },
          "metadata": {},
          "execution_count": 163
        }
      ]
    },
    {
      "cell_type": "code",
      "metadata": {
        "colab": {
          "base_uri": "https://localhost:8080/",
          "height": 295
        },
        "id": "oCG9HoJvy6im",
        "outputId": "bc503e75-9fe0-46e7-ac1b-67b529c6688e"
      },
      "source": [
        "SSE = []\n",
        "for i in range(1,20):\n",
        "    kmeans = KMeans(n_clusters=i,init='k-means++',max_iter=1500,n_init=10,random_state=0)\n",
        "    kmeans.fit(df_lower)\n",
        "    SSE.append(kmeans.inertia_)\n",
        "plt.plot(range(1,20),SSE)\n",
        "plt.title('Elbow Curve')\n",
        "plt.xlabel('Number of clusters')\n",
        "plt.ylabel('Score')\n",
        "plt.show()"
      ],
      "execution_count": null,
      "outputs": [
        {
          "output_type": "display_data",
          "data": {
            "image/png": "[encoded data removed]",
            "text/plain": [
              "<Figure size 432x288 with 1 Axes>"
            ]
          },
          "metadata": {
            "needs_background": "light"
          }
        }
      ]
    },
    {
      "cell_type": "code",
      "metadata": {
        "id": "UQwdiV7Zy8bl"
      },
      "source": [
        "kmeans_lower = KMeans(n_clusters=12, random_state=42).fit(df_lower_standardscalar)\n",
        "labels_lower = kmeans.labels_"
      ],
      "execution_count": null,
      "outputs": []
    },
    {
      "cell_type": "code",
      "metadata": {
        "colab": {
          "base_uri": "https://localhost:8080/",
          "height": 419
        },
        "id": "sGWNgU_Ey97X",
        "outputId": "65f77c0d-87bd-46ba-c248-ae2465dc9889"
      },
      "source": [
        "df_lower['label_kmeans'] = labels_lower\n",
        "df_lower"
      ],
      "execution_count": null,
      "outputs": [
        {
          "output_type": "execute_result",
          "data": {
            "text/html": [
              "<div>\n",
              "<style scoped>\n",
              "    .dataframe tbody tr th:only-of-type {\n",
              "        vertical-align: middle;\n",
              "    }\n",
              "\n",
              "    .dataframe tbody tr th {\n",
              "        vertical-align: top;\n",
              "    }\n",
              "\n",
              "    .dataframe thead th {\n",
              "        text-align: right;\n",
              "    }\n",
              "</style>\n",
              "<table border=\"1\" class=\"dataframe\">\n",
              "  <thead>\n",
              "    <tr style=\"text-align: right;\">\n",
              "      <th></th>\n",
              "      <th>t_floral</th>\n",
              "      <th>t_stripe</th>\n",
              "      <th>t_dot</th>\n",
              "      <th>f_denim</th>\n",
              "      <th>f_leather</th>\n",
              "      <th>f_cotton</th>\n",
              "      <th>f_knit</th>\n",
              "      <th>f_pleated</th>\n",
              "      <th>s_fit</th>\n",
              "      <th>s_pencil</th>\n",
              "      <th>s_midi</th>\n",
              "      <th>s_mini</th>\n",
              "      <th>s_maxi</th>\n",
              "      <th>p_zipper</th>\n",
              "      <th>label_kmeans</th>\n",
              "    </tr>\n",
              "  </thead>\n",
              "  <tbody>\n",
              "    <tr>\n",
              "      <th>0</th>\n",
              "      <td>0</td>\n",
              "      <td>0</td>\n",
              "      <td>0</td>\n",
              "      <td>1</td>\n",
              "      <td>0</td>\n",
              "      <td>0</td>\n",
              "      <td>0</td>\n",
              "      <td>0</td>\n",
              "      <td>0</td>\n",
              "      <td>1</td>\n",
              "      <td>1</td>\n",
              "      <td>0</td>\n",
              "      <td>0</td>\n",
              "      <td>0</td>\n",
              "      <td>11</td>\n",
              "    </tr>\n",
              "    <tr>\n",
              "      <th>1</th>\n",
              "      <td>0</td>\n",
              "      <td>0</td>\n",
              "      <td>0</td>\n",
              "      <td>0</td>\n",
              "      <td>0</td>\n",
              "      <td>0</td>\n",
              "      <td>0</td>\n",
              "      <td>0</td>\n",
              "      <td>0</td>\n",
              "      <td>0</td>\n",
              "      <td>0</td>\n",
              "      <td>0</td>\n",
              "      <td>0</td>\n",
              "      <td>0</td>\n",
              "      <td>2</td>\n",
              "    </tr>\n",
              "    <tr>\n",
              "      <th>2</th>\n",
              "      <td>0</td>\n",
              "      <td>0</td>\n",
              "      <td>0</td>\n",
              "      <td>1</td>\n",
              "      <td>0</td>\n",
              "      <td>0</td>\n",
              "      <td>0</td>\n",
              "      <td>0</td>\n",
              "      <td>0</td>\n",
              "      <td>0</td>\n",
              "      <td>0</td>\n",
              "      <td>0</td>\n",
              "      <td>0</td>\n",
              "      <td>0</td>\n",
              "      <td>1</td>\n",
              "    </tr>\n",
              "    <tr>\n",
              "      <th>3</th>\n",
              "      <td>0</td>\n",
              "      <td>0</td>\n",
              "      <td>0</td>\n",
              "      <td>0</td>\n",
              "      <td>0</td>\n",
              "      <td>0</td>\n",
              "      <td>0</td>\n",
              "      <td>0</td>\n",
              "      <td>0</td>\n",
              "      <td>0</td>\n",
              "      <td>0</td>\n",
              "      <td>1</td>\n",
              "      <td>0</td>\n",
              "      <td>0</td>\n",
              "      <td>4</td>\n",
              "    </tr>\n",
              "    <tr>\n",
              "      <th>4</th>\n",
              "      <td>0</td>\n",
              "      <td>0</td>\n",
              "      <td>0</td>\n",
              "      <td>1</td>\n",
              "      <td>0</td>\n",
              "      <td>0</td>\n",
              "      <td>0</td>\n",
              "      <td>0</td>\n",
              "      <td>0</td>\n",
              "      <td>0</td>\n",
              "      <td>0</td>\n",
              "      <td>1</td>\n",
              "      <td>0</td>\n",
              "      <td>0</td>\n",
              "      <td>1</td>\n",
              "    </tr>\n",
              "    <tr>\n",
              "      <th>...</th>\n",
              "      <td>...</td>\n",
              "      <td>...</td>\n",
              "      <td>...</td>\n",
              "      <td>...</td>\n",
              "      <td>...</td>\n",
              "      <td>...</td>\n",
              "      <td>...</td>\n",
              "      <td>...</td>\n",
              "      <td>...</td>\n",
              "      <td>...</td>\n",
              "      <td>...</td>\n",
              "      <td>...</td>\n",
              "      <td>...</td>\n",
              "      <td>...</td>\n",
              "      <td>...</td>\n",
              "    </tr>\n",
              "    <tr>\n",
              "      <th>58958</th>\n",
              "      <td>0</td>\n",
              "      <td>0</td>\n",
              "      <td>0</td>\n",
              "      <td>1</td>\n",
              "      <td>0</td>\n",
              "      <td>0</td>\n",
              "      <td>0</td>\n",
              "      <td>0</td>\n",
              "      <td>0</td>\n",
              "      <td>0</td>\n",
              "      <td>0</td>\n",
              "      <td>0</td>\n",
              "      <td>0</td>\n",
              "      <td>0</td>\n",
              "      <td>1</td>\n",
              "    </tr>\n",
              "    <tr>\n",
              "      <th>58959</th>\n",
              "      <td>0</td>\n",
              "      <td>0</td>\n",
              "      <td>0</td>\n",
              "      <td>1</td>\n",
              "      <td>0</td>\n",
              "      <td>0</td>\n",
              "      <td>0</td>\n",
              "      <td>0</td>\n",
              "      <td>0</td>\n",
              "      <td>0</td>\n",
              "      <td>0</td>\n",
              "      <td>0</td>\n",
              "      <td>0</td>\n",
              "      <td>0</td>\n",
              "      <td>1</td>\n",
              "    </tr>\n",
              "    <tr>\n",
              "      <th>58960</th>\n",
              "      <td>0</td>\n",
              "      <td>0</td>\n",
              "      <td>0</td>\n",
              "      <td>1</td>\n",
              "      <td>0</td>\n",
              "      <td>0</td>\n",
              "      <td>0</td>\n",
              "      <td>0</td>\n",
              "      <td>0</td>\n",
              "      <td>0</td>\n",
              "      <td>0</td>\n",
              "      <td>0</td>\n",
              "      <td>0</td>\n",
              "      <td>0</td>\n",
              "      <td>1</td>\n",
              "    </tr>\n",
              "    <tr>\n",
              "      <th>58961</th>\n",
              "      <td>0</td>\n",
              "      <td>0</td>\n",
              "      <td>0</td>\n",
              "      <td>0</td>\n",
              "      <td>0</td>\n",
              "      <td>0</td>\n",
              "      <td>0</td>\n",
              "      <td>0</td>\n",
              "      <td>0</td>\n",
              "      <td>0</td>\n",
              "      <td>0</td>\n",
              "      <td>0</td>\n",
              "      <td>0</td>\n",
              "      <td>0</td>\n",
              "      <td>2</td>\n",
              "    </tr>\n",
              "    <tr>\n",
              "      <th>58962</th>\n",
              "      <td>0</td>\n",
              "      <td>0</td>\n",
              "      <td>0</td>\n",
              "      <td>1</td>\n",
              "      <td>0</td>\n",
              "      <td>0</td>\n",
              "      <td>0</td>\n",
              "      <td>0</td>\n",
              "      <td>0</td>\n",
              "      <td>0</td>\n",
              "      <td>0</td>\n",
              "      <td>0</td>\n",
              "      <td>0</td>\n",
              "      <td>0</td>\n",
              "      <td>1</td>\n",
              "    </tr>\n",
              "  </tbody>\n",
              "</table>\n",
              "<p>58963 rows × 15 columns</p>\n",
              "</div>"
            ],
            "text/plain": [
              "       t_floral  t_stripe  t_dot  ...  s_maxi  p_zipper  label_kmeans\n",
              "0             0         0      0  ...       0         0            11\n",
              "1             0         0      0  ...       0         0             2\n",
              "2             0         0      0  ...       0         0             1\n",
              "3             0         0      0  ...       0         0             4\n",
              "4             0         0      0  ...       0         0             1\n",
              "...         ...       ...    ...  ...     ...       ...           ...\n",
              "58958         0         0      0  ...       0         0             1\n",
              "58959         0         0      0  ...       0         0             1\n",
              "58960         0         0      0  ...       0         0             1\n",
              "58961         0         0      0  ...       0         0             2\n",
              "58962         0         0      0  ...       0         0             1\n",
              "\n",
              "[58963 rows x 15 columns]"
            ]
          },
          "metadata": {},
          "execution_count": 166
        }
      ]
    },
    {
      "cell_type": "code",
      "metadata": {
        "colab": {
          "base_uri": "https://localhost:8080/"
        },
        "id": "sCSPDFFX9KmM",
        "outputId": "951f223d-4820-4dc1-8397-c0c4007f2896"
      },
      "source": [
        "histCounter=Counter(df_lower[\"label_kmeans\"])\n",
        "histCounter"
      ],
      "execution_count": null,
      "outputs": [
        {
          "output_type": "execute_result",
          "data": {
            "text/plain": [
              "Counter({0: 1508,\n",
              "         1: 7832,\n",
              "         2: 28004,\n",
              "         3: 3480,\n",
              "         4: 1944,\n",
              "         5: 1917,\n",
              "         6: 1880,\n",
              "         7: 2482,\n",
              "         8: 1817,\n",
              "         9: 321,\n",
              "         10: 1468,\n",
              "         11: 794,\n",
              "         12: 1247,\n",
              "         13: 1045,\n",
              "         14: 552,\n",
              "         15: 257,\n",
              "         16: 808,\n",
              "         17: 345,\n",
              "         18: 1262})"
            ]
          },
          "metadata": {},
          "execution_count": 167
        }
      ]
    },
    {
      "cell_type": "code",
      "metadata": {
        "colab": {
          "base_uri": "https://localhost:8080/",
          "height": 282
        },
        "id": "PqwolajU9RGf",
        "outputId": "5f46dffb-2b15-431c-9276-00624c7b49e1"
      },
      "source": [
        "plt.bar(histCounter.keys(), histCounter.values())"
      ],
      "execution_count": null,
      "outputs": [
        {
          "output_type": "execute_result",
          "data": {
            "text/plain": [
              "<BarContainer object of 19 artists>"
            ]
          },
          "metadata": {},
          "execution_count": 168
        },
        {
          "output_type": "display_data",
          "data": {
            "image/png": "[encoded data removed]",
            "text/plain": [
              "<Figure size 432x288 with 1 Axes>"
            ]
          },
          "metadata": {
            "needs_background": "light"
          }
        }
      ]
    },
    {
      "cell_type": "markdown",
      "metadata": {
        "id": "N5pXV4BrzFBg"
      },
      "source": [
        "## Predicting the incomming clusters based on the lower attributes"
      ]
    },
    {
      "cell_type": "code",
      "metadata": {
        "colab": {
          "base_uri": "https://localhost:8080/"
        },
        "id": "NToSiXrSzD-6",
        "outputId": "e788e967-b598-445c-bc9c-0c9b53ca4442"
      },
      "source": [
        "import pickle\n",
        "filename = 'df_lower_kmeans.pkl'\n",
        "pickle.dump(kmeans_lower, open(filename, 'wb'))\n",
        "loaded_model_lower = pickle.load(open(filename, 'rb'))\n",
        "loaded_model_lower"
      ],
      "execution_count": null,
      "outputs": [
        {
          "output_type": "execute_result",
          "data": {
            "text/plain": [
              "KMeans(n_clusters=12, random_state=42)"
            ]
          },
          "metadata": {},
          "execution_count": 169
        }
      ]
    },
    {
      "cell_type": "code",
      "metadata": {
        "colab": {
          "base_uri": "https://localhost:8080/"
        },
        "id": "kOhvI3q0y_KZ",
        "outputId": "3f947610-6b6b-42c5-b6ea-8e9b02e6061f"
      },
      "source": [
        "## predicting the clusters for the top labels\n",
        "from sklearn.metrics import pairwise_distances_argmin_min\n",
        "from collections import Counter\n",
        "\n",
        "pred=[0,\t0,\t1,\t1,\t0,\t0,\t0,\t0,\t0,\t1,\t1,\t0,\t1,\t0]\n",
        "pred=np.asarray(pred)\n",
        "loaded_model_test=loaded_model_lower.fit(pred.reshape(-1, 1))\n",
        "closest, _ = pairwise_distances_argmin_min(loaded_model_lower.cluster_centers_, pred.reshape(-1, 1))\n",
        "closest\n",
        "b = Counter(closest)\n",
        "b.most_common(1)[0][0]"
      ],
      "execution_count": null,
      "outputs": [
        {
          "output_type": "execute_result",
          "data": {
            "text/plain": [
              "0"
            ]
          },
          "metadata": {},
          "execution_count": 170
        }
      ]
    },
    {
      "cell_type": "code",
      "metadata": {
        "id": "wwHmGlqHzazJ"
      },
      "source": [
        "centers_lower = kmeans_lower.cluster_centers_"
      ],
      "execution_count": null,
      "outputs": []
    },
    {
      "cell_type": "code",
      "metadata": {
        "colab": {
          "base_uri": "https://localhost:8080/",
          "height": 419
        },
        "id": "vXLtUqTA0Dre",
        "outputId": "495c79c8-b6a3-49c9-debb-d3efe2bfc8c4"
      },
      "source": [
        "reduced_data_lower = PCA(n_components=2).fit_transform(df_lower_standardscalar)\n",
        "principalDf_lower = pd.DataFrame(data = reduced_data_lower\n",
        "             , columns = ['principal component 1', 'principal component 2'])\n",
        "principalDf_lower"
      ],
      "execution_count": null,
      "outputs": [
        {
          "output_type": "execute_result",
          "data": {
            "text/html": [
              "<div>\n",
              "<style scoped>\n",
              "    .dataframe tbody tr th:only-of-type {\n",
              "        vertical-align: middle;\n",
              "    }\n",
              "\n",
              "    .dataframe tbody tr th {\n",
              "        vertical-align: top;\n",
              "    }\n",
              "\n",
              "    .dataframe thead th {\n",
              "        text-align: right;\n",
              "    }\n",
              "</style>\n",
              "<table border=\"1\" class=\"dataframe\">\n",
              "  <thead>\n",
              "    <tr style=\"text-align: right;\">\n",
              "      <th></th>\n",
              "      <th>principal component 1</th>\n",
              "      <th>principal component 2</th>\n",
              "    </tr>\n",
              "  </thead>\n",
              "  <tbody>\n",
              "    <tr>\n",
              "      <th>0</th>\n",
              "      <td>2.130425</td>\n",
              "      <td>0.825016</td>\n",
              "    </tr>\n",
              "    <tr>\n",
              "      <th>1</th>\n",
              "      <td>-0.251744</td>\n",
              "      <td>-0.191129</td>\n",
              "    </tr>\n",
              "    <tr>\n",
              "      <th>2</th>\n",
              "      <td>-1.548104</td>\n",
              "      <td>-0.314137</td>\n",
              "    </tr>\n",
              "    <tr>\n",
              "      <th>3</th>\n",
              "      <td>0.919876</td>\n",
              "      <td>0.552067</td>\n",
              "    </tr>\n",
              "    <tr>\n",
              "      <th>4</th>\n",
              "      <td>-0.376484</td>\n",
              "      <td>0.429059</td>\n",
              "    </tr>\n",
              "    <tr>\n",
              "      <th>...</th>\n",
              "      <td>...</td>\n",
              "      <td>...</td>\n",
              "    </tr>\n",
              "    <tr>\n",
              "      <th>58958</th>\n",
              "      <td>-1.548104</td>\n",
              "      <td>-0.314137</td>\n",
              "    </tr>\n",
              "    <tr>\n",
              "      <th>58959</th>\n",
              "      <td>-1.548104</td>\n",
              "      <td>-0.314137</td>\n",
              "    </tr>\n",
              "    <tr>\n",
              "      <th>58960</th>\n",
              "      <td>-1.548104</td>\n",
              "      <td>-0.314137</td>\n",
              "    </tr>\n",
              "    <tr>\n",
              "      <th>58961</th>\n",
              "      <td>-0.251744</td>\n",
              "      <td>-0.191129</td>\n",
              "    </tr>\n",
              "    <tr>\n",
              "      <th>58962</th>\n",
              "      <td>-1.548104</td>\n",
              "      <td>-0.314137</td>\n",
              "    </tr>\n",
              "  </tbody>\n",
              "</table>\n",
              "<p>58963 rows × 2 columns</p>\n",
              "</div>"
            ],
            "text/plain": [
              "       principal component 1  principal component 2\n",
              "0                   2.130425               0.825016\n",
              "1                  -0.251744              -0.191129\n",
              "2                  -1.548104              -0.314137\n",
              "3                   0.919876               0.552067\n",
              "4                  -0.376484               0.429059\n",
              "...                      ...                    ...\n",
              "58958              -1.548104              -0.314137\n",
              "58959              -1.548104              -0.314137\n",
              "58960              -1.548104              -0.314137\n",
              "58961              -0.251744              -0.191129\n",
              "58962              -1.548104              -0.314137\n",
              "\n",
              "[58963 rows x 2 columns]"
            ]
          },
          "metadata": {},
          "execution_count": 172
        }
      ]
    },
    {
      "cell_type": "code",
      "metadata": {
        "colab": {
          "base_uri": "https://localhost:8080/",
          "height": 296
        },
        "id": "AMDatHNa0FIS",
        "outputId": "65e896f5-7b85-48e7-c78e-ad30e672a584"
      },
      "source": [
        "sns.scatterplot(x=\"principal component 1\", y=\"principal component 2\", hue=df_lower['label_kmeans'], data=principalDf_lower)"
      ],
      "execution_count": null,
      "outputs": [
        {
          "output_type": "execute_result",
          "data": {
            "text/plain": [
              "<matplotlib.axes._subplots.AxesSubplot at 0x7f6027dfd350>"
            ]
          },
          "metadata": {},
          "execution_count": 173
        },
        {
          "output_type": "display_data",
          "data": {
            "image/png": "[encoded data removed]",
            "text/plain": [
              "<Figure size 432x288 with 1 Axes>"
            ]
          },
          "metadata": {
            "needs_background": "light"
          }
        }
      ]
    },
    {
      "cell_type": "markdown",
      "metadata": {
        "id": "LHlg-tRM00OC"
      },
      "source": [
        "## Top and bottom rating table"
      ]
    },
    {
      "cell_type": "code",
      "metadata": {
        "id": "MvWniecz0GsI"
      },
      "source": [
        "downloadedRating = drive.CreateFile({'id':\"12KSKMrg_K2LOJLOeQMBAJ6eaJxoLZuJ3\"})\n",
        "downloadedRating.GetContentFile('rating1.csv')"
      ],
      "execution_count": null,
      "outputs": []
    },
    {
      "cell_type": "code",
      "metadata": {
        "colab": {
          "base_uri": "https://localhost:8080/",
          "height": 419
        },
        "id": "Oq71CJi7043R",
        "outputId": "fe2c6a6e-eecc-4e41-b4a0-a84239c15b97"
      },
      "source": [
        "df_top_bottom_rating = pd.read_csv('rating1.csv')\n",
        "df_top_bottom_rating"
      ],
      "execution_count": null,
      "outputs": [
        {
          "output_type": "execute_result",
          "data": {
            "text/html": [
              "<div>\n",
              "<style scoped>\n",
              "    .dataframe tbody tr th:only-of-type {\n",
              "        vertical-align: middle;\n",
              "    }\n",
              "\n",
              "    .dataframe tbody tr th {\n",
              "        vertical-align: top;\n",
              "    }\n",
              "\n",
              "    .dataframe thead th {\n",
              "        text-align: right;\n",
              "    }\n",
              "</style>\n",
              "<table border=\"1\" class=\"dataframe\">\n",
              "  <thead>\n",
              "    <tr style=\"text-align: right;\">\n",
              "      <th></th>\n",
              "      <th>Unnamed: 0</th>\n",
              "      <th>top</th>\n",
              "      <th>bottom</th>\n",
              "      <th>itemRating</th>\n",
              "    </tr>\n",
              "  </thead>\n",
              "  <tbody>\n",
              "    <tr>\n",
              "      <th>0</th>\n",
              "      <td>0</td>\n",
              "      <td>8188</td>\n",
              "      <td>52013</td>\n",
              "      <td>4.0</td>\n",
              "    </tr>\n",
              "    <tr>\n",
              "      <th>1</th>\n",
              "      <td>1</td>\n",
              "      <td>9532</td>\n",
              "      <td>39863</td>\n",
              "      <td>5.0</td>\n",
              "    </tr>\n",
              "    <tr>\n",
              "      <th>2</th>\n",
              "      <td>2</td>\n",
              "      <td>2541</td>\n",
              "      <td>55868</td>\n",
              "      <td>1.0</td>\n",
              "    </tr>\n",
              "    <tr>\n",
              "      <th>3</th>\n",
              "      <td>3</td>\n",
              "      <td>25719</td>\n",
              "      <td>52417</td>\n",
              "      <td>4.0</td>\n",
              "    </tr>\n",
              "    <tr>\n",
              "      <th>4</th>\n",
              "      <td>4</td>\n",
              "      <td>25701</td>\n",
              "      <td>13091</td>\n",
              "      <td>5.0</td>\n",
              "    </tr>\n",
              "    <tr>\n",
              "      <th>...</th>\n",
              "      <td>...</td>\n",
              "      <td>...</td>\n",
              "      <td>...</td>\n",
              "      <td>...</td>\n",
              "    </tr>\n",
              "    <tr>\n",
              "      <th>70</th>\n",
              "      <td>70</td>\n",
              "      <td>60532</td>\n",
              "      <td>5934</td>\n",
              "      <td>1.0</td>\n",
              "    </tr>\n",
              "    <tr>\n",
              "      <th>71</th>\n",
              "      <td>71</td>\n",
              "      <td>138258</td>\n",
              "      <td>55322</td>\n",
              "      <td>5.0</td>\n",
              "    </tr>\n",
              "    <tr>\n",
              "      <th>72</th>\n",
              "      <td>72</td>\n",
              "      <td>5850</td>\n",
              "      <td>53159</td>\n",
              "      <td>3.0</td>\n",
              "    </tr>\n",
              "    <tr>\n",
              "      <th>73</th>\n",
              "      <td>73</td>\n",
              "      <td>90409</td>\n",
              "      <td>58203</td>\n",
              "      <td>3.0</td>\n",
              "    </tr>\n",
              "    <tr>\n",
              "      <th>74</th>\n",
              "      <td>74</td>\n",
              "      <td>47617</td>\n",
              "      <td>48152</td>\n",
              "      <td>3.0</td>\n",
              "    </tr>\n",
              "  </tbody>\n",
              "</table>\n",
              "<p>75 rows × 4 columns</p>\n",
              "</div>"
            ],
            "text/plain": [
              "    Unnamed: 0     top  bottom  itemRating\n",
              "0            0    8188   52013         4.0\n",
              "1            1    9532   39863         5.0\n",
              "2            2    2541   55868         1.0\n",
              "3            3   25719   52417         4.0\n",
              "4            4   25701   13091         5.0\n",
              "..         ...     ...     ...         ...\n",
              "70          70   60532    5934         1.0\n",
              "71          71  138258   55322         5.0\n",
              "72          72    5850   53159         3.0\n",
              "73          73   90409   58203         3.0\n",
              "74          74   47617   48152         3.0\n",
              "\n",
              "[75 rows x 4 columns]"
            ]
          },
          "metadata": {},
          "execution_count": 175
        }
      ]
    },
    {
      "cell_type": "code",
      "metadata": {
        "id": "K79SrDd106By"
      },
      "source": [
        "for i, j in df_top_bottom_rating[\"top\"].iteritems():\n",
        "    df_top_bottom_rating[\"topClusterId\"]=df_upper[\"label_kmeans\"]"
      ],
      "execution_count": null,
      "outputs": []
    },
    {
      "cell_type": "code",
      "metadata": {
        "id": "69Ghwggh07Q6"
      },
      "source": [
        "for i, j in df_top_bottom_rating[\"bottom\"].iteritems():\n",
        "    df_top_bottom_rating[\"bottomClusterId\"]=df_lower[\"label_kmeans\"]"
      ],
      "execution_count": null,
      "outputs": []
    },
    {
      "cell_type": "markdown",
      "metadata": {
        "id": "W1k2b-5G09UA"
      },
      "source": [
        "## Cluster mapping"
      ]
    },
    {
      "cell_type": "code",
      "metadata": {
        "colab": {
          "base_uri": "https://localhost:8080/",
          "height": 419
        },
        "id": "gq3fViOZ08bE",
        "outputId": "3c59e93f-ff94-43ae-f8b4-912602cd9d3b"
      },
      "source": [
        "df_top_bottom_rating"
      ],
      "execution_count": null,
      "outputs": [
        {
          "output_type": "execute_result",
          "data": {
            "text/html": [
              "<div>\n",
              "<style scoped>\n",
              "    .dataframe tbody tr th:only-of-type {\n",
              "        vertical-align: middle;\n",
              "    }\n",
              "\n",
              "    .dataframe tbody tr th {\n",
              "        vertical-align: top;\n",
              "    }\n",
              "\n",
              "    .dataframe thead th {\n",
              "        text-align: right;\n",
              "    }\n",
              "</style>\n",
              "<table border=\"1\" class=\"dataframe\">\n",
              "  <thead>\n",
              "    <tr style=\"text-align: right;\">\n",
              "      <th></th>\n",
              "      <th>Unnamed: 0</th>\n",
              "      <th>top</th>\n",
              "      <th>bottom</th>\n",
              "      <th>itemRating</th>\n",
              "      <th>topClusterId</th>\n",
              "      <th>bottomClusterId</th>\n",
              "    </tr>\n",
              "  </thead>\n",
              "  <tbody>\n",
              "    <tr>\n",
              "      <th>0</th>\n",
              "      <td>0</td>\n",
              "      <td>8188</td>\n",
              "      <td>52013</td>\n",
              "      <td>4.0</td>\n",
              "      <td>0</td>\n",
              "      <td>11</td>\n",
              "    </tr>\n",
              "    <tr>\n",
              "      <th>1</th>\n",
              "      <td>1</td>\n",
              "      <td>9532</td>\n",
              "      <td>39863</td>\n",
              "      <td>5.0</td>\n",
              "      <td>0</td>\n",
              "      <td>2</td>\n",
              "    </tr>\n",
              "    <tr>\n",
              "      <th>2</th>\n",
              "      <td>2</td>\n",
              "      <td>2541</td>\n",
              "      <td>55868</td>\n",
              "      <td>1.0</td>\n",
              "      <td>0</td>\n",
              "      <td>1</td>\n",
              "    </tr>\n",
              "    <tr>\n",
              "      <th>3</th>\n",
              "      <td>3</td>\n",
              "      <td>25719</td>\n",
              "      <td>52417</td>\n",
              "      <td>4.0</td>\n",
              "      <td>0</td>\n",
              "      <td>4</td>\n",
              "    </tr>\n",
              "    <tr>\n",
              "      <th>4</th>\n",
              "      <td>4</td>\n",
              "      <td>25701</td>\n",
              "      <td>13091</td>\n",
              "      <td>5.0</td>\n",
              "      <td>0</td>\n",
              "      <td>1</td>\n",
              "    </tr>\n",
              "    <tr>\n",
              "      <th>...</th>\n",
              "      <td>...</td>\n",
              "      <td>...</td>\n",
              "      <td>...</td>\n",
              "      <td>...</td>\n",
              "      <td>...</td>\n",
              "      <td>...</td>\n",
              "    </tr>\n",
              "    <tr>\n",
              "      <th>70</th>\n",
              "      <td>70</td>\n",
              "      <td>60532</td>\n",
              "      <td>5934</td>\n",
              "      <td>1.0</td>\n",
              "      <td>0</td>\n",
              "      <td>10</td>\n",
              "    </tr>\n",
              "    <tr>\n",
              "      <th>71</th>\n",
              "      <td>71</td>\n",
              "      <td>138258</td>\n",
              "      <td>55322</td>\n",
              "      <td>5.0</td>\n",
              "      <td>0</td>\n",
              "      <td>18</td>\n",
              "    </tr>\n",
              "    <tr>\n",
              "      <th>72</th>\n",
              "      <td>72</td>\n",
              "      <td>5850</td>\n",
              "      <td>53159</td>\n",
              "      <td>3.0</td>\n",
              "      <td>0</td>\n",
              "      <td>1</td>\n",
              "    </tr>\n",
              "    <tr>\n",
              "      <th>73</th>\n",
              "      <td>73</td>\n",
              "      <td>90409</td>\n",
              "      <td>58203</td>\n",
              "      <td>3.0</td>\n",
              "      <td>0</td>\n",
              "      <td>11</td>\n",
              "    </tr>\n",
              "    <tr>\n",
              "      <th>74</th>\n",
              "      <td>74</td>\n",
              "      <td>47617</td>\n",
              "      <td>48152</td>\n",
              "      <td>3.0</td>\n",
              "      <td>0</td>\n",
              "      <td>2</td>\n",
              "    </tr>\n",
              "  </tbody>\n",
              "</table>\n",
              "<p>75 rows × 6 columns</p>\n",
              "</div>"
            ],
            "text/plain": [
              "    Unnamed: 0     top  bottom  itemRating  topClusterId  bottomClusterId\n",
              "0            0    8188   52013         4.0             0               11\n",
              "1            1    9532   39863         5.0             0                2\n",
              "2            2    2541   55868         1.0             0                1\n",
              "3            3   25719   52417         4.0             0                4\n",
              "4            4   25701   13091         5.0             0                1\n",
              "..         ...     ...     ...         ...           ...              ...\n",
              "70          70   60532    5934         1.0             0               10\n",
              "71          71  138258   55322         5.0             0               18\n",
              "72          72    5850   53159         3.0             0                1\n",
              "73          73   90409   58203         3.0             0               11\n",
              "74          74   47617   48152         3.0             0                2\n",
              "\n",
              "[75 rows x 6 columns]"
            ]
          },
          "metadata": {},
          "execution_count": 178
        }
      ]
    },
    {
      "cell_type": "code",
      "metadata": {
        "colab": {
          "base_uri": "https://localhost:8080/",
          "height": 419
        },
        "id": "fO9h-5ID1AsR",
        "outputId": "abc3a447-8f62-4a29-ebcf-f9c314cc4a2d"
      },
      "source": [
        "cluster_mapping=df_top_bottom_rating[[\"topClusterId\", \"bottomClusterId\", \"itemRating\"]]\n",
        "cluster_mapping"
      ],
      "execution_count": null,
      "outputs": [
        {
          "output_type": "execute_result",
          "data": {
            "text/html": [
              "<div>\n",
              "<style scoped>\n",
              "    .dataframe tbody tr th:only-of-type {\n",
              "        vertical-align: middle;\n",
              "    }\n",
              "\n",
              "    .dataframe tbody tr th {\n",
              "        vertical-align: top;\n",
              "    }\n",
              "\n",
              "    .dataframe thead th {\n",
              "        text-align: right;\n",
              "    }\n",
              "</style>\n",
              "<table border=\"1\" class=\"dataframe\">\n",
              "  <thead>\n",
              "    <tr style=\"text-align: right;\">\n",
              "      <th></th>\n",
              "      <th>topClusterId</th>\n",
              "      <th>bottomClusterId</th>\n",
              "      <th>itemRating</th>\n",
              "    </tr>\n",
              "  </thead>\n",
              "  <tbody>\n",
              "    <tr>\n",
              "      <th>0</th>\n",
              "      <td>0</td>\n",
              "      <td>11</td>\n",
              "      <td>4.0</td>\n",
              "    </tr>\n",
              "    <tr>\n",
              "      <th>1</th>\n",
              "      <td>0</td>\n",
              "      <td>2</td>\n",
              "      <td>5.0</td>\n",
              "    </tr>\n",
              "    <tr>\n",
              "      <th>2</th>\n",
              "      <td>0</td>\n",
              "      <td>1</td>\n",
              "      <td>1.0</td>\n",
              "    </tr>\n",
              "    <tr>\n",
              "      <th>3</th>\n",
              "      <td>0</td>\n",
              "      <td>4</td>\n",
              "      <td>4.0</td>\n",
              "    </tr>\n",
              "    <tr>\n",
              "      <th>4</th>\n",
              "      <td>0</td>\n",
              "      <td>1</td>\n",
              "      <td>5.0</td>\n",
              "    </tr>\n",
              "    <tr>\n",
              "      <th>...</th>\n",
              "      <td>...</td>\n",
              "      <td>...</td>\n",
              "      <td>...</td>\n",
              "    </tr>\n",
              "    <tr>\n",
              "      <th>70</th>\n",
              "      <td>0</td>\n",
              "      <td>10</td>\n",
              "      <td>1.0</td>\n",
              "    </tr>\n",
              "    <tr>\n",
              "      <th>71</th>\n",
              "      <td>0</td>\n",
              "      <td>18</td>\n",
              "      <td>5.0</td>\n",
              "    </tr>\n",
              "    <tr>\n",
              "      <th>72</th>\n",
              "      <td>0</td>\n",
              "      <td>1</td>\n",
              "      <td>3.0</td>\n",
              "    </tr>\n",
              "    <tr>\n",
              "      <th>73</th>\n",
              "      <td>0</td>\n",
              "      <td>11</td>\n",
              "      <td>3.0</td>\n",
              "    </tr>\n",
              "    <tr>\n",
              "      <th>74</th>\n",
              "      <td>0</td>\n",
              "      <td>2</td>\n",
              "      <td>3.0</td>\n",
              "    </tr>\n",
              "  </tbody>\n",
              "</table>\n",
              "<p>75 rows × 3 columns</p>\n",
              "</div>"
            ],
            "text/plain": [
              "    topClusterId  bottomClusterId  itemRating\n",
              "0              0               11         4.0\n",
              "1              0                2         5.0\n",
              "2              0                1         1.0\n",
              "3              0                4         4.0\n",
              "4              0                1         5.0\n",
              "..           ...              ...         ...\n",
              "70             0               10         1.0\n",
              "71             0               18         5.0\n",
              "72             0                1         3.0\n",
              "73             0               11         3.0\n",
              "74             0                2         3.0\n",
              "\n",
              "[75 rows x 3 columns]"
            ]
          },
          "metadata": {},
          "execution_count": 179
        }
      ]
    },
    {
      "cell_type": "code",
      "metadata": {
        "id": "alB8iv9N1R2j"
      },
      "source": [
        "cluster_mapping_average=cluster_mapping.groupby(['topClusterId','bottomClusterId'])['itemRating'].mean().reset_index()\n",
        "cluster_mapping_average=pd.DataFrame(cluster_mapping_average)"
      ],
      "execution_count": null,
      "outputs": []
    },
    {
      "cell_type": "markdown",
      "metadata": {
        "id": "Qy1Xnrfk1VJs"
      },
      "source": [
        "## Collaborative Filtering"
      ]
    },
    {
      "cell_type": "code",
      "metadata": {
        "colab": {
          "base_uri": "https://localhost:8080/",
          "height": 452
        },
        "id": "pbT1Vyty1TaZ",
        "outputId": "12439602-b288-4656-8132-6bb038be1026"
      },
      "source": [
        "cluster_mapping_average=cluster_mapping.groupby(['topClusterId','bottomClusterId'])['itemRating'].mean().reset_index()\n",
        "cluster_mapping_average=pd.DataFrame(cluster_mapping_average)\n",
        "cluster_mapping_average"
      ],
      "execution_count": null,
      "outputs": [
        {
          "output_type": "execute_result",
          "data": {
            "text/html": [
              "<div>\n",
              "<style scoped>\n",
              "    .dataframe tbody tr th:only-of-type {\n",
              "        vertical-align: middle;\n",
              "    }\n",
              "\n",
              "    .dataframe tbody tr th {\n",
              "        vertical-align: top;\n",
              "    }\n",
              "\n",
              "    .dataframe thead th {\n",
              "        text-align: right;\n",
              "    }\n",
              "</style>\n",
              "<table border=\"1\" class=\"dataframe\">\n",
              "  <thead>\n",
              "    <tr style=\"text-align: right;\">\n",
              "      <th></th>\n",
              "      <th>topClusterId</th>\n",
              "      <th>bottomClusterId</th>\n",
              "      <th>itemRating</th>\n",
              "    </tr>\n",
              "  </thead>\n",
              "  <tbody>\n",
              "    <tr>\n",
              "      <th>0</th>\n",
              "      <td>0</td>\n",
              "      <td>0</td>\n",
              "      <td>3.000000</td>\n",
              "    </tr>\n",
              "    <tr>\n",
              "      <th>1</th>\n",
              "      <td>0</td>\n",
              "      <td>1</td>\n",
              "      <td>3.142857</td>\n",
              "    </tr>\n",
              "    <tr>\n",
              "      <th>2</th>\n",
              "      <td>0</td>\n",
              "      <td>2</td>\n",
              "      <td>3.333333</td>\n",
              "    </tr>\n",
              "    <tr>\n",
              "      <th>3</th>\n",
              "      <td>0</td>\n",
              "      <td>4</td>\n",
              "      <td>4.000000</td>\n",
              "    </tr>\n",
              "    <tr>\n",
              "      <th>4</th>\n",
              "      <td>0</td>\n",
              "      <td>5</td>\n",
              "      <td>2.000000</td>\n",
              "    </tr>\n",
              "    <tr>\n",
              "      <th>5</th>\n",
              "      <td>0</td>\n",
              "      <td>7</td>\n",
              "      <td>3.000000</td>\n",
              "    </tr>\n",
              "    <tr>\n",
              "      <th>6</th>\n",
              "      <td>0</td>\n",
              "      <td>8</td>\n",
              "      <td>5.000000</td>\n",
              "    </tr>\n",
              "    <tr>\n",
              "      <th>7</th>\n",
              "      <td>0</td>\n",
              "      <td>10</td>\n",
              "      <td>1.000000</td>\n",
              "    </tr>\n",
              "    <tr>\n",
              "      <th>8</th>\n",
              "      <td>0</td>\n",
              "      <td>11</td>\n",
              "      <td>3.875000</td>\n",
              "    </tr>\n",
              "    <tr>\n",
              "      <th>9</th>\n",
              "      <td>0</td>\n",
              "      <td>12</td>\n",
              "      <td>2.500000</td>\n",
              "    </tr>\n",
              "    <tr>\n",
              "      <th>10</th>\n",
              "      <td>0</td>\n",
              "      <td>14</td>\n",
              "      <td>4.000000</td>\n",
              "    </tr>\n",
              "    <tr>\n",
              "      <th>11</th>\n",
              "      <td>0</td>\n",
              "      <td>18</td>\n",
              "      <td>2.769231</td>\n",
              "    </tr>\n",
              "    <tr>\n",
              "      <th>12</th>\n",
              "      <td>2</td>\n",
              "      <td>1</td>\n",
              "      <td>3.333333</td>\n",
              "    </tr>\n",
              "  </tbody>\n",
              "</table>\n",
              "</div>"
            ],
            "text/plain": [
              "    topClusterId  bottomClusterId  itemRating\n",
              "0              0                0    3.000000\n",
              "1              0                1    3.142857\n",
              "2              0                2    3.333333\n",
              "3              0                4    4.000000\n",
              "4              0                5    2.000000\n",
              "5              0                7    3.000000\n",
              "6              0                8    5.000000\n",
              "7              0               10    1.000000\n",
              "8              0               11    3.875000\n",
              "9              0               12    2.500000\n",
              "10             0               14    4.000000\n",
              "11             0               18    2.769231\n",
              "12             2                1    3.333333"
            ]
          },
          "metadata": {},
          "execution_count": 181
        }
      ]
    },
    {
      "cell_type": "markdown",
      "metadata": {
        "id": "SC3G81vE3hjN"
      },
      "source": [
        "## Creating a ratings matrix"
      ]
    },
    {
      "cell_type": "code",
      "metadata": {
        "colab": {
          "base_uri": "https://localhost:8080/",
          "height": 142
        },
        "id": "lIV3Qu3z-GJG",
        "outputId": "40258d4c-237d-4f0c-ecd6-22117d6d87e6"
      },
      "source": [
        "df_ratings = cluster_mapping_average.pivot(index='topClusterId', columns='bottomClusterId', values='itemRating')\n",
        "df_ratings\n",
        "df_ratings_clean = df_ratings.fillna(0)\n",
        "df_ratings_clean.head(2)"
      ],
      "execution_count": null,
      "outputs": [
        {
          "output_type": "execute_result",
          "data": {
            "text/html": [
              "<div>\n",
              "<style scoped>\n",
              "    .dataframe tbody tr th:only-of-type {\n",
              "        vertical-align: middle;\n",
              "    }\n",
              "\n",
              "    .dataframe tbody tr th {\n",
              "        vertical-align: top;\n",
              "    }\n",
              "\n",
              "    .dataframe thead th {\n",
              "        text-align: right;\n",
              "    }\n",
              "</style>\n",
              "<table border=\"1\" class=\"dataframe\">\n",
              "  <thead>\n",
              "    <tr style=\"text-align: right;\">\n",
              "      <th>bottomClusterId</th>\n",
              "      <th>0</th>\n",
              "      <th>1</th>\n",
              "      <th>2</th>\n",
              "      <th>4</th>\n",
              "      <th>5</th>\n",
              "      <th>7</th>\n",
              "      <th>8</th>\n",
              "      <th>10</th>\n",
              "      <th>11</th>\n",
              "      <th>12</th>\n",
              "      <th>14</th>\n",
              "      <th>18</th>\n",
              "    </tr>\n",
              "    <tr>\n",
              "      <th>topClusterId</th>\n",
              "      <th></th>\n",
              "      <th></th>\n",
              "      <th></th>\n",
              "      <th></th>\n",
              "      <th></th>\n",
              "      <th></th>\n",
              "      <th></th>\n",
              "      <th></th>\n",
              "      <th></th>\n",
              "      <th></th>\n",
              "      <th></th>\n",
              "      <th></th>\n",
              "    </tr>\n",
              "  </thead>\n",
              "  <tbody>\n",
              "    <tr>\n",
              "      <th>0</th>\n",
              "      <td>3.0</td>\n",
              "      <td>3.142857</td>\n",
              "      <td>3.333333</td>\n",
              "      <td>4.0</td>\n",
              "      <td>2.0</td>\n",
              "      <td>3.0</td>\n",
              "      <td>5.0</td>\n",
              "      <td>1.0</td>\n",
              "      <td>3.875</td>\n",
              "      <td>2.5</td>\n",
              "      <td>4.0</td>\n",
              "      <td>2.769231</td>\n",
              "    </tr>\n",
              "    <tr>\n",
              "      <th>2</th>\n",
              "      <td>0.0</td>\n",
              "      <td>3.333333</td>\n",
              "      <td>0.000000</td>\n",
              "      <td>0.0</td>\n",
              "      <td>0.0</td>\n",
              "      <td>0.0</td>\n",
              "      <td>0.0</td>\n",
              "      <td>0.0</td>\n",
              "      <td>0.000</td>\n",
              "      <td>0.0</td>\n",
              "      <td>0.0</td>\n",
              "      <td>0.000000</td>\n",
              "    </tr>\n",
              "  </tbody>\n",
              "</table>\n",
              "</div>"
            ],
            "text/plain": [
              "bottomClusterId   0         1         2    4   ...     11   12   14        18\n",
              "topClusterId                                   ...                           \n",
              "0                3.0  3.142857  3.333333  4.0  ...  3.875  2.5  4.0  2.769231\n",
              "2                0.0  3.333333  0.000000  0.0  ...  0.000  0.0  0.0  0.000000\n",
              "\n",
              "[2 rows x 12 columns]"
            ]
          },
          "metadata": {},
          "execution_count": 182
        }
      ]
    },
    {
      "cell_type": "markdown",
      "metadata": {
        "id": "9pWiml1sHR2q"
      },
      "source": [
        "Algorithm for Collaborative filtering"
      ]
    },
    {
      "cell_type": "code",
      "metadata": {
        "colab": {
          "base_uri": "https://localhost:8080/",
          "height": 142
        },
        "id": "audumvR_-z3R",
        "outputId": "2377c5f1-d52c-443d-e3dc-901f7039cab3"
      },
      "source": [
        "## Normalizing the matrix\n",
        "normalised_mat = df_ratings_clean - np.asarray([(np.mean(df_ratings_clean, 1))]).T\n",
        "normalised_mat.head(2)"
      ],
      "execution_count": null,
      "outputs": [
        {
          "output_type": "execute_result",
          "data": {
            "text/html": [
              "<div>\n",
              "<style scoped>\n",
              "    .dataframe tbody tr th:only-of-type {\n",
              "        vertical-align: middle;\n",
              "    }\n",
              "\n",
              "    .dataframe tbody tr th {\n",
              "        vertical-align: top;\n",
              "    }\n",
              "\n",
              "    .dataframe thead th {\n",
              "        text-align: right;\n",
              "    }\n",
              "</style>\n",
              "<table border=\"1\" class=\"dataframe\">\n",
              "  <thead>\n",
              "    <tr style=\"text-align: right;\">\n",
              "      <th>bottomClusterId</th>\n",
              "      <th>0</th>\n",
              "      <th>1</th>\n",
              "      <th>2</th>\n",
              "      <th>4</th>\n",
              "      <th>5</th>\n",
              "      <th>7</th>\n",
              "      <th>8</th>\n",
              "      <th>10</th>\n",
              "      <th>11</th>\n",
              "      <th>12</th>\n",
              "      <th>14</th>\n",
              "      <th>18</th>\n",
              "    </tr>\n",
              "    <tr>\n",
              "      <th>topClusterId</th>\n",
              "      <th></th>\n",
              "      <th></th>\n",
              "      <th></th>\n",
              "      <th></th>\n",
              "      <th></th>\n",
              "      <th></th>\n",
              "      <th></th>\n",
              "      <th></th>\n",
              "      <th></th>\n",
              "      <th></th>\n",
              "      <th></th>\n",
              "      <th></th>\n",
              "    </tr>\n",
              "  </thead>\n",
              "  <tbody>\n",
              "    <tr>\n",
              "      <th>0</th>\n",
              "      <td>-0.135035</td>\n",
              "      <td>0.007822</td>\n",
              "      <td>0.198298</td>\n",
              "      <td>0.864965</td>\n",
              "      <td>-1.135035</td>\n",
              "      <td>-0.135035</td>\n",
              "      <td>1.864965</td>\n",
              "      <td>-2.135035</td>\n",
              "      <td>0.739965</td>\n",
              "      <td>-0.635035</td>\n",
              "      <td>0.864965</td>\n",
              "      <td>-0.365804</td>\n",
              "    </tr>\n",
              "    <tr>\n",
              "      <th>2</th>\n",
              "      <td>-0.277778</td>\n",
              "      <td>3.055556</td>\n",
              "      <td>-0.277778</td>\n",
              "      <td>-0.277778</td>\n",
              "      <td>-0.277778</td>\n",
              "      <td>-0.277778</td>\n",
              "      <td>-0.277778</td>\n",
              "      <td>-0.277778</td>\n",
              "      <td>-0.277778</td>\n",
              "      <td>-0.277778</td>\n",
              "      <td>-0.277778</td>\n",
              "      <td>-0.277778</td>\n",
              "    </tr>\n",
              "  </tbody>\n",
              "</table>\n",
              "</div>"
            ],
            "text/plain": [
              "bottomClusterId        0         1         2   ...        12        14        18\n",
              "topClusterId                                   ...                              \n",
              "0               -0.135035  0.007822  0.198298  ... -0.635035  0.864965 -0.365804\n",
              "2               -0.277778  3.055556 -0.277778  ... -0.277778 -0.277778 -0.277778\n",
              "\n",
              "[2 rows x 12 columns]"
            ]
          },
          "metadata": {},
          "execution_count": 183
        }
      ]
    },
    {
      "cell_type": "code",
      "metadata": {
        "id": "0aMmqL_h_EqT"
      },
      "source": [
        "A = normalised_mat.T / np.sqrt(df_ratings_clean.shape[0] - 1)"
      ],
      "execution_count": null,
      "outputs": []
    },
    {
      "cell_type": "code",
      "metadata": {
        "id": "0LhgzVnY_JOe"
      },
      "source": [
        "U, S, V = np.linalg.svd(A)"
      ],
      "execution_count": null,
      "outputs": []
    },
    {
      "cell_type": "code",
      "metadata": {
        "id": "umjJUydN_MQL"
      },
      "source": [
        "def top_cosine_similarity(data, clusterId, top_n=5):\n",
        "    index = clusterId \n",
        "    movie_row = data[index, :]\n",
        "    magnitude = np.sqrt(np.einsum('ij, ij -> i', data, data))\n",
        "    similarity = np.dot(movie_row, data.T) / (magnitude[index] * magnitude)\n",
        "    sort_indexes = np.argsort(-similarity)\n",
        "    return sort_indexes[:top_n]"
      ],
      "execution_count": null,
      "outputs": []
    },
    {
      "cell_type": "code",
      "metadata": {
        "colab": {
          "base_uri": "https://localhost:8080/"
        },
        "id": "L4mTIpt1quLB",
        "outputId": "4995bbe5-7d44-4522-fd64-8e4e6129c529"
      },
      "source": [
        "print(\"U:\", U, \"\\n\", \"S:\", S, \"\\n\", \"V:\", V)"
      ],
      "execution_count": null,
      "outputs": [
        {
          "output_type": "stream",
          "name": "stdout",
          "text": [
            "U: [[-0.040171  0.086417  0.053308  0.245189 ...  0.209212 -0.186543  0.245189 -0.109052]\n",
            " [ 0.015068 -0.957309  0.091852  0.108007 ...  0.104978  0.071659  0.108007  0.078183]\n",
            " [ 0.056116  0.087933  0.992739 -0.018619 ... -0.016489  0.006937 -0.018619  0.00235 ]\n",
            " [ 0.248691  0.090964 -0.017921  0.935012 ... -0.056163  0.040913 -0.064988  0.021905]\n",
            " ...\n",
            " [ 0.212583  0.090396 -0.015922 -0.056294 ...  0.951276  0.034542 -0.056294  0.018238]\n",
            " [-0.184602  0.084144  0.006065  0.039342 ...  0.033102  0.964468  0.039342 -0.022093]\n",
            " [ 0.248691  0.090964 -0.017921 -0.064988 ... -0.056163  0.040913  0.935012  0.021905]\n",
            " [-0.106831  0.085368  0.001759  0.020616 ...  0.01708  -0.021811  0.020616  0.985804]] \n",
            " S: [3.461497 3.191364] \n",
            " V: [[ 0.999895  0.01451 ]\n",
            " [ 0.01451  -0.999895]]\n"
          ]
        }
      ]
    },
    {
      "cell_type": "markdown",
      "metadata": {
        "id": "7tUKnvs-I_kb"
      },
      "source": [
        "Saving the model"
      ]
    },
    {
      "cell_type": "code",
      "metadata": {
        "id": "wK_e7gUA_c2n"
      },
      "source": [
        "def similar_clusters(data, clusterId, top_indexes, topType):\n",
        "  result_similar_clusters=[]\n",
        "  if topType==\"upper\":\n",
        "    data[data.topClusterId == clusterId].topClusterId.values[0]\n",
        "    for id in top_indexes + 1:\n",
        "      similar_clusters=data[data.topClusterId == id].topClusterId.values[0]\n",
        "      result_similar_clusters.append(similar_clusters)\n",
        "    return result_similar_clusters\n",
        "  elif topType==\"lower\":\n",
        "    data[data.bottomClusterId == clusterId].bottomClusterId.values[0]\n",
        "    for id in top_indexes + 1:\n",
        "      similar_clusters=data[data.bottomClusterId == id].bottomClusterId.values[0]\n",
        "      result_similar_clusters.append(similar_clusters)\n",
        "    return result_similar_clusters\n"
      ],
      "execution_count": null,
      "outputs": []
    },
    {
      "cell_type": "code",
      "metadata": {
        "id": "EbyS4v3z_2kS",
        "colab": {
          "base_uri": "https://localhost:8080/"
        },
        "outputId": "3a0f4d18-3ddb-42de-d1a5-599f3fce4ddb"
      },
      "source": [
        "k = 50\n",
        "topClusterRating = 0 # (predicting bottom cluster)\n",
        "top_n = 5\n",
        "sliced = V.T[:, :k] # representative data\n",
        "indexes = top_cosine_similarity(sliced, topClusterRating, top_n)\n",
        "indexes"
      ],
      "execution_count": null,
      "outputs": [
        {
          "output_type": "execute_result",
          "data": {
            "text/plain": [
              "array([0, 1])"
            ]
          },
          "metadata": {},
          "execution_count": 189
        }
      ]
    },
    {
      "cell_type": "code",
      "metadata": {
        "colab": {
          "base_uri": "https://localhost:8080/"
        },
        "id": "jJ7Y4FeoACFe",
        "outputId": "09283492-afba-4f88-d878-efd9ba96e6fd"
      },
      "source": [
        "clusterRecommendation=similar_clusters(cluster_mapping_average, topClusterRating, indexes, \"lower\")\n",
        "clusterRecommendation"
      ],
      "execution_count": null,
      "outputs": [
        {
          "output_type": "execute_result",
          "data": {
            "text/plain": [
              "[1, 2]"
            ]
          },
          "metadata": {},
          "execution_count": 190
        }
      ]
    },
    {
      "cell_type": "code",
      "metadata": {
        "id": "j1HZ45BDAdTH"
      },
      "source": [
        "##Go to cluster and get all the attributes\n",
        "def getTheClusterItems(clusterRecommendation, itemType):\n",
        "  if itemType==\"upper\":\n",
        "    df_topClusterResult=[]\n",
        "    for i in clusterRecommendation:\n",
        "      topItems_df=df_top_bottom_rating[df_top_bottom_rating[\"topClusterId\"]==i].sort_values('itemRating', ascending=False)\n",
        "      df_topClusterResult.append(topItems_df)\n",
        "    df_topClusterResult = pd.concat(df_topClusterResult)\n",
        "    df_topClusterResult=df_topClusterResult.sort_values('itemRating', ascending=False)\n",
        "    return df_topClusterResult[0:5]\n",
        "  if itemType==\"lower\":\n",
        "    df_bottomClusterResult=[]\n",
        "    for i in clusterRecommendation:\n",
        "      topItems_df=df_top_bottom_rating[df_top_bottom_rating[\"bottomClusterId\"]==i].sort_values('itemRating', ascending=False)\n",
        "      df_bottomClusterResult.append(topItems_df)\n",
        "    df_bottomClusterResult = pd.concat(df_bottomClusterResult)\n",
        "    df_bottomClusterResult=df_bottomClusterResult.sort_values('itemRating', ascending=False)\n",
        "    return df_bottomClusterResult[0:5]"
      ],
      "execution_count": null,
      "outputs": []
    },
    {
      "cell_type": "code",
      "metadata": {
        "id": "eG7G4aAzHchA",
        "colab": {
          "base_uri": "https://localhost:8080/",
          "height": 204
        },
        "outputId": "6e5124a6-1c77-4f7d-e030-055e50c13737"
      },
      "source": [
        "getTheClusterItems(clusterRecommendation, \"lower\")"
      ],
      "execution_count": null,
      "outputs": [
        {
          "output_type": "execute_result",
          "data": {
            "text/html": [
              "<div>\n",
              "<style scoped>\n",
              "    .dataframe tbody tr th:only-of-type {\n",
              "        vertical-align: middle;\n",
              "    }\n",
              "\n",
              "    .dataframe tbody tr th {\n",
              "        vertical-align: top;\n",
              "    }\n",
              "\n",
              "    .dataframe thead th {\n",
              "        text-align: right;\n",
              "    }\n",
              "</style>\n",
              "<table border=\"1\" class=\"dataframe\">\n",
              "  <thead>\n",
              "    <tr style=\"text-align: right;\">\n",
              "      <th></th>\n",
              "      <th>Unnamed: 0</th>\n",
              "      <th>top</th>\n",
              "      <th>bottom</th>\n",
              "      <th>itemRating</th>\n",
              "      <th>topClusterId</th>\n",
              "      <th>bottomClusterId</th>\n",
              "    </tr>\n",
              "  </thead>\n",
              "  <tbody>\n",
              "    <tr>\n",
              "      <th>32</th>\n",
              "      <td>32</td>\n",
              "      <td>31466</td>\n",
              "      <td>18704</td>\n",
              "      <td>5.0</td>\n",
              "      <td>0</td>\n",
              "      <td>1</td>\n",
              "    </tr>\n",
              "    <tr>\n",
              "      <th>1</th>\n",
              "      <td>1</td>\n",
              "      <td>9532</td>\n",
              "      <td>39863</td>\n",
              "      <td>5.0</td>\n",
              "      <td>0</td>\n",
              "      <td>2</td>\n",
              "    </tr>\n",
              "    <tr>\n",
              "      <th>43</th>\n",
              "      <td>43</td>\n",
              "      <td>128471</td>\n",
              "      <td>15463</td>\n",
              "      <td>5.0</td>\n",
              "      <td>0</td>\n",
              "      <td>2</td>\n",
              "    </tr>\n",
              "    <tr>\n",
              "      <th>9</th>\n",
              "      <td>9</td>\n",
              "      <td>30740</td>\n",
              "      <td>34518</td>\n",
              "      <td>5.0</td>\n",
              "      <td>0</td>\n",
              "      <td>1</td>\n",
              "    </tr>\n",
              "    <tr>\n",
              "      <th>16</th>\n",
              "      <td>16</td>\n",
              "      <td>2413</td>\n",
              "      <td>25041</td>\n",
              "      <td>5.0</td>\n",
              "      <td>0</td>\n",
              "      <td>2</td>\n",
              "    </tr>\n",
              "  </tbody>\n",
              "</table>\n",
              "</div>"
            ],
            "text/plain": [
              "    Unnamed: 0     top  bottom  itemRating  topClusterId  bottomClusterId\n",
              "32          32   31466   18704         5.0             0                1\n",
              "1            1    9532   39863         5.0             0                2\n",
              "43          43  128471   15463         5.0             0                2\n",
              "9            9   30740   34518         5.0             0                1\n",
              "16          16    2413   25041         5.0             0                2"
            ]
          },
          "metadata": {},
          "execution_count": 192
        }
      ]
    },
    {
      "cell_type": "code",
      "metadata": {
        "id": "MfUctiQSINmO"
      },
      "source": [
        "from fastai.collab import *\n",
        "from fastai.tabular import *\n",
        "from sklearn.model_selection import train_test_split"
      ],
      "execution_count": null,
      "outputs": []
    },
    {
      "cell_type": "code",
      "metadata": {
        "id": "eVqlpI_TI_DB"
      },
      "source": [
        "X_train, X_test, y_train, y_test = train_test_split(df_top_bottom_rating, df_top_bottom_rating, test_size=0.33, random_state=10)"
      ],
      "execution_count": null,
      "outputs": []
    },
    {
      "cell_type": "code",
      "metadata": {
        "id": "w841TuhxJEi5"
      },
      "source": [
        "databunch = CollabDataBunch.from_df(X_train, test = y_test, valid_pct = 0.33, bs=20)"
      ],
      "execution_count": null,
      "outputs": []
    },
    {
      "cell_type": "code",
      "metadata": {
        "id": "Gfs-RXkVJF4y",
        "colab": {
          "base_uri": "https://localhost:8080/"
        },
        "outputId": "c748d7d8-42f5-403a-94c4-996035933657"
      },
      "source": [
        "learn = collab_learner(databunch, n_factors=50, y_range=(0, 5))\n",
        "learn.model"
      ],
      "execution_count": null,
      "outputs": [
        {
          "output_type": "execute_result",
          "data": {
            "text/plain": [
              "EmbeddingDotBias(\n",
              "  (u_weight): Embedding(35, 50)\n",
              "  (i_weight): Embedding(35, 50)\n",
              "  (u_bias): Embedding(35, 1)\n",
              "  (i_bias): Embedding(35, 1)\n",
              ")"
            ]
          },
          "metadata": {},
          "execution_count": 196
        }
      ]
    },
    {
      "cell_type": "code",
      "metadata": {
        "id": "3CJyc6yaJNs-"
      },
      "source": [
        "import joblib\n",
        "filename = 'cf.pkl'\n",
        "learn.save(filename)"
      ],
      "execution_count": null,
      "outputs": []
    },
    {
      "cell_type": "code",
      "metadata": {
        "id": "NwWamWTqJbZw",
        "colab": {
          "base_uri": "https://localhost:8080/"
        },
        "outputId": "c84818db-ed2b-48c6-e48e-be45ea66c630"
      },
      "source": [
        "loaded_model = learn.load(filename)\n",
        "loaded_model.model"
      ],
      "execution_count": null,
      "outputs": [
        {
          "output_type": "execute_result",
          "data": {
            "text/plain": [
              "EmbeddingDotBias(\n",
              "  (u_weight): Embedding(35, 50)\n",
              "  (i_weight): Embedding(35, 50)\n",
              "  (u_bias): Embedding(35, 1)\n",
              "  (i_bias): Embedding(35, 1)\n",
              ")"
            ]
          },
          "metadata": {},
          "execution_count": 198
        }
      ]
    },
    {
      "cell_type": "code",
      "metadata": {
        "id": "X_nMXZlwZUgw"
      },
      "source": [
        ""
      ],
      "execution_count": null,
      "outputs": []
    },
    {
      "cell_type": "code",
      "metadata": {
        "id": "MJcjnHNatNTk"
      },
      "source": [
        ""
      ],
      "execution_count": null,
      "outputs": []
    }
  ]
}